{
 "cells": [
  {
   "cell_type": "code",
   "execution_count": 2,
   "id": "73a0b923-a9b1-4bb1-bb02-d2917788dda3",
   "metadata": {},
   "outputs": [],
   "source": [
    "import numpy as np\n",
    "import pandas as pd\n",
    "\n",
    "import seaborn as sns\n",
    "import matplotlib.pyplot as plt"
   ]
  },
  {
   "cell_type": "code",
   "execution_count": 794,
   "id": "3b8db2f7-04ee-4557-ab57-865a564c913d",
   "metadata": {},
   "outputs": [],
   "source": [
    "pd.set_option('display.max_columns', None)\n",
    "pd.set_option('display.max_rows', 100)"
   ]
  },
  {
   "cell_type": "markdown",
   "id": "bca6c8d3-c206-4d11-87eb-ee92c649c3a9",
   "metadata": {},
   "source": [
    "## Index:\n",
    "* [Preprocessing](#first-bullet)\n",
    "* [Model Building](#second-bullet)"
   ]
  },
  {
   "cell_type": "code",
   "execution_count": 2383,
   "id": "e5d8b489-05af-49a7-9db7-85b9fe67fbc1",
   "metadata": {},
   "outputs": [],
   "source": [
    "df = pd.read_csv('train_wn75k28.csv')"
   ]
  },
  {
   "cell_type": "code",
   "execution_count": 2145,
   "id": "83acd725-9a1a-47f9-91e3-e7c8a17139c2",
   "metadata": {},
   "outputs": [
    {
     "data": {
      "text/plain": [
       "(39161, 19)"
      ]
     },
     "execution_count": 2145,
     "metadata": {},
     "output_type": "execute_result"
    }
   ],
   "source": [
    "df.shape"
   ]
  },
  {
   "cell_type": "code",
   "execution_count": 2146,
   "id": "6793a182-6217-4734-b663-fee4d7869342",
   "metadata": {},
   "outputs": [
    {
     "data": {
      "text/html": [
       "<div>\n",
       "<style scoped>\n",
       "    .dataframe tbody tr th:only-of-type {\n",
       "        vertical-align: middle;\n",
       "    }\n",
       "\n",
       "    .dataframe tbody tr th {\n",
       "        vertical-align: top;\n",
       "    }\n",
       "\n",
       "    .dataframe thead th {\n",
       "        text-align: right;\n",
       "    }\n",
       "</style>\n",
       "<table border=\"1\" class=\"dataframe\">\n",
       "  <thead>\n",
       "    <tr style=\"text-align: right;\">\n",
       "      <th></th>\n",
       "      <th>id</th>\n",
       "      <th>created_at</th>\n",
       "      <th>campaign_var_1</th>\n",
       "      <th>campaign_var_2</th>\n",
       "      <th>products_purchased</th>\n",
       "      <th>signup_date</th>\n",
       "      <th>user_activity_var_1</th>\n",
       "      <th>user_activity_var_2</th>\n",
       "      <th>user_activity_var_3</th>\n",
       "      <th>user_activity_var_4</th>\n",
       "      <th>user_activity_var_5</th>\n",
       "      <th>user_activity_var_6</th>\n",
       "      <th>user_activity_var_7</th>\n",
       "      <th>user_activity_var_8</th>\n",
       "      <th>user_activity_var_9</th>\n",
       "      <th>user_activity_var_10</th>\n",
       "      <th>user_activity_var_11</th>\n",
       "      <th>user_activity_var_12</th>\n",
       "      <th>buy</th>\n",
       "    </tr>\n",
       "  </thead>\n",
       "  <tbody>\n",
       "    <tr>\n",
       "      <th>0</th>\n",
       "      <td>1</td>\n",
       "      <td>2021-01-01</td>\n",
       "      <td>1</td>\n",
       "      <td>2</td>\n",
       "      <td>2.0</td>\n",
       "      <td>2020-09-24</td>\n",
       "      <td>0</td>\n",
       "      <td>0</td>\n",
       "      <td>0</td>\n",
       "      <td>0</td>\n",
       "      <td>0</td>\n",
       "      <td>0</td>\n",
       "      <td>1</td>\n",
       "      <td>1</td>\n",
       "      <td>0</td>\n",
       "      <td>0</td>\n",
       "      <td>0</td>\n",
       "      <td>0</td>\n",
       "      <td>0</td>\n",
       "    </tr>\n",
       "    <tr>\n",
       "      <th>1</th>\n",
       "      <td>2</td>\n",
       "      <td>2021-01-01</td>\n",
       "      <td>2</td>\n",
       "      <td>1</td>\n",
       "      <td>2.0</td>\n",
       "      <td>2020-09-19</td>\n",
       "      <td>1</td>\n",
       "      <td>0</td>\n",
       "      <td>1</td>\n",
       "      <td>0</td>\n",
       "      <td>0</td>\n",
       "      <td>0</td>\n",
       "      <td>1</td>\n",
       "      <td>0</td>\n",
       "      <td>0</td>\n",
       "      <td>0</td>\n",
       "      <td>0</td>\n",
       "      <td>0</td>\n",
       "      <td>0</td>\n",
       "    </tr>\n",
       "    <tr>\n",
       "      <th>2</th>\n",
       "      <td>3</td>\n",
       "      <td>2021-01-01</td>\n",
       "      <td>9</td>\n",
       "      <td>3</td>\n",
       "      <td>3.0</td>\n",
       "      <td>2021-08-11</td>\n",
       "      <td>1</td>\n",
       "      <td>0</td>\n",
       "      <td>0</td>\n",
       "      <td>0</td>\n",
       "      <td>0</td>\n",
       "      <td>0</td>\n",
       "      <td>0</td>\n",
       "      <td>0</td>\n",
       "      <td>0</td>\n",
       "      <td>0</td>\n",
       "      <td>0</td>\n",
       "      <td>0</td>\n",
       "      <td>0</td>\n",
       "    </tr>\n",
       "  </tbody>\n",
       "</table>\n",
       "</div>"
      ],
      "text/plain": [
       "   id  created_at  campaign_var_1  campaign_var_2  products_purchased  \\\n",
       "0   1  2021-01-01               1               2                 2.0   \n",
       "1   2  2021-01-01               2               1                 2.0   \n",
       "2   3  2021-01-01               9               3                 3.0   \n",
       "\n",
       "  signup_date  user_activity_var_1  user_activity_var_2  user_activity_var_3  \\\n",
       "0  2020-09-24                    0                    0                    0   \n",
       "1  2020-09-19                    1                    0                    1   \n",
       "2  2021-08-11                    1                    0                    0   \n",
       "\n",
       "   user_activity_var_4  user_activity_var_5  user_activity_var_6  \\\n",
       "0                    0                    0                    0   \n",
       "1                    0                    0                    0   \n",
       "2                    0                    0                    0   \n",
       "\n",
       "   user_activity_var_7  user_activity_var_8  user_activity_var_9  \\\n",
       "0                    1                    1                    0   \n",
       "1                    1                    0                    0   \n",
       "2                    0                    0                    0   \n",
       "\n",
       "   user_activity_var_10  user_activity_var_11  user_activity_var_12  buy  \n",
       "0                     0                     0                     0    0  \n",
       "1                     0                     0                     0    0  \n",
       "2                     0                     0                     0    0  "
      ]
     },
     "execution_count": 2146,
     "metadata": {},
     "output_type": "execute_result"
    }
   ],
   "source": [
    "df.head(3)"
   ]
  },
  {
   "cell_type": "markdown",
   "id": "21bff349-bc92-44fd-b0c3-08d59a250649",
   "metadata": {},
   "source": [
    "## EDA"
   ]
  },
  {
   "cell_type": "code",
   "execution_count": 1771,
   "id": "2e125305-9d05-4b6e-bf81-b1b7d796ea5b",
   "metadata": {},
   "outputs": [],
   "source": [
    "# Target frequency"
   ]
  },
  {
   "cell_type": "code",
   "execution_count": 1770,
   "id": "34155983-8458-4b7c-9a09-04cedefa53dc",
   "metadata": {},
   "outputs": [
    {
     "data": {
      "text/plain": [
       "0    0.94898\n",
       "1    0.05102\n",
       "Name: buy, dtype: float64"
      ]
     },
     "execution_count": 1770,
     "metadata": {},
     "output_type": "execute_result"
    }
   ],
   "source": [
    "df['buy'].value_counts(normalize=True)"
   ]
  },
  {
   "cell_type": "code",
   "execution_count": 1772,
   "id": "ac76828b-0283-4500-8194-e403c932a882",
   "metadata": {},
   "outputs": [],
   "source": [
    "# We can observe it is an imbalanced dataset"
   ]
  },
  {
   "cell_type": "code",
   "execution_count": 1773,
   "id": "79291c86-b474-45fd-9d05-694da5bc4af7",
   "metadata": {},
   "outputs": [
    {
     "name": "stdout",
     "output_type": "stream",
     "text": [
      "<class 'pandas.core.frame.DataFrame'>\n",
      "RangeIndex: 39161 entries, 0 to 39160\n",
      "Data columns (total 19 columns):\n",
      " #   Column                Non-Null Count  Dtype  \n",
      "---  ------                --------------  -----  \n",
      " 0   id                    39161 non-null  int64  \n",
      " 1   created_at            39161 non-null  object \n",
      " 2   campaign_var_1        39161 non-null  int64  \n",
      " 3   campaign_var_2        39161 non-null  int64  \n",
      " 4   products_purchased    18250 non-null  float64\n",
      " 5   signup_date           24048 non-null  object \n",
      " 6   user_activity_var_1   39161 non-null  int64  \n",
      " 7   user_activity_var_2   39161 non-null  int64  \n",
      " 8   user_activity_var_3   39161 non-null  int64  \n",
      " 9   user_activity_var_4   39161 non-null  int64  \n",
      " 10  user_activity_var_5   39161 non-null  int64  \n",
      " 11  user_activity_var_6   39161 non-null  int64  \n",
      " 12  user_activity_var_7   39161 non-null  int64  \n",
      " 13  user_activity_var_8   39161 non-null  int64  \n",
      " 14  user_activity_var_9   39161 non-null  int64  \n",
      " 15  user_activity_var_10  39161 non-null  int64  \n",
      " 16  user_activity_var_11  39161 non-null  int64  \n",
      " 17  user_activity_var_12  39161 non-null  int64  \n",
      " 18  buy                   39161 non-null  int64  \n",
      "dtypes: float64(1), int64(16), object(2)\n",
      "memory usage: 5.7+ MB\n"
     ]
    }
   ],
   "source": [
    "df.info()"
   ]
  },
  {
   "cell_type": "code",
   "execution_count": 1774,
   "id": "a0eabfb9-8e19-4970-9933-30640da56588",
   "metadata": {},
   "outputs": [
    {
     "data": {
      "text/plain": [
       "products_purchased    20911\n",
       "signup_date           15113\n",
       "id                        0\n",
       "dtype: int64"
      ]
     },
     "execution_count": 1774,
     "metadata": {},
     "output_type": "execute_result"
    }
   ],
   "source": [
    "# Null values\n",
    "df.isna().sum().sort_values(ascending=False)[:3]"
   ]
  },
  {
   "cell_type": "code",
   "execution_count": 1775,
   "id": "275bb987-e35f-4e79-a4b2-026cb51efcdf",
   "metadata": {},
   "outputs": [
    {
     "data": {
      "text/html": [
       "<div>\n",
       "<style scoped>\n",
       "    .dataframe tbody tr th:only-of-type {\n",
       "        vertical-align: middle;\n",
       "    }\n",
       "\n",
       "    .dataframe tbody tr th {\n",
       "        vertical-align: top;\n",
       "    }\n",
       "\n",
       "    .dataframe thead th {\n",
       "        text-align: right;\n",
       "    }\n",
       "</style>\n",
       "<table border=\"1\" class=\"dataframe\">\n",
       "  <thead>\n",
       "    <tr style=\"text-align: right;\">\n",
       "      <th></th>\n",
       "      <th>id</th>\n",
       "      <th>campaign_var_1</th>\n",
       "      <th>campaign_var_2</th>\n",
       "      <th>products_purchased</th>\n",
       "      <th>user_activity_var_1</th>\n",
       "      <th>user_activity_var_2</th>\n",
       "      <th>user_activity_var_3</th>\n",
       "      <th>user_activity_var_4</th>\n",
       "      <th>user_activity_var_5</th>\n",
       "      <th>user_activity_var_6</th>\n",
       "      <th>user_activity_var_7</th>\n",
       "      <th>user_activity_var_8</th>\n",
       "      <th>user_activity_var_9</th>\n",
       "      <th>user_activity_var_10</th>\n",
       "      <th>user_activity_var_11</th>\n",
       "      <th>user_activity_var_12</th>\n",
       "      <th>buy</th>\n",
       "    </tr>\n",
       "  </thead>\n",
       "  <tbody>\n",
       "    <tr>\n",
       "      <th>count</th>\n",
       "      <td>39161.000000</td>\n",
       "      <td>39161.000000</td>\n",
       "      <td>39161.000000</td>\n",
       "      <td>18250.000000</td>\n",
       "      <td>39161.000000</td>\n",
       "      <td>39161.000000</td>\n",
       "      <td>39161.000000</td>\n",
       "      <td>39161.000000</td>\n",
       "      <td>39161.000000</td>\n",
       "      <td>39161.000000</td>\n",
       "      <td>39161.000000</td>\n",
       "      <td>39161.000000</td>\n",
       "      <td>39161.000000</td>\n",
       "      <td>39161.000000</td>\n",
       "      <td>39161.000000</td>\n",
       "      <td>39161.000000</td>\n",
       "      <td>39161.000000</td>\n",
       "    </tr>\n",
       "    <tr>\n",
       "      <th>mean</th>\n",
       "      <td>19581.000000</td>\n",
       "      <td>6.523812</td>\n",
       "      <td>6.452746</td>\n",
       "      <td>2.154137</td>\n",
       "      <td>0.400092</td>\n",
       "      <td>0.006716</td>\n",
       "      <td>0.102832</td>\n",
       "      <td>0.011465</td>\n",
       "      <td>0.151503</td>\n",
       "      <td>0.499834</td>\n",
       "      <td>0.286612</td>\n",
       "      <td>0.174434</td>\n",
       "      <td>0.011440</td>\n",
       "      <td>0.000383</td>\n",
       "      <td>0.218942</td>\n",
       "      <td>0.000562</td>\n",
       "      <td>0.051020</td>\n",
       "    </tr>\n",
       "    <tr>\n",
       "      <th>std</th>\n",
       "      <td>11304.951283</td>\n",
       "      <td>3.472944</td>\n",
       "      <td>2.614296</td>\n",
       "      <td>0.779815</td>\n",
       "      <td>0.509194</td>\n",
       "      <td>0.081676</td>\n",
       "      <td>0.303743</td>\n",
       "      <td>0.106463</td>\n",
       "      <td>0.359681</td>\n",
       "      <td>0.558166</td>\n",
       "      <td>0.455784</td>\n",
       "      <td>0.379689</td>\n",
       "      <td>0.106346</td>\n",
       "      <td>0.019568</td>\n",
       "      <td>0.431544</td>\n",
       "      <td>0.023696</td>\n",
       "      <td>0.220042</td>\n",
       "    </tr>\n",
       "    <tr>\n",
       "      <th>min</th>\n",
       "      <td>1.000000</td>\n",
       "      <td>1.000000</td>\n",
       "      <td>1.000000</td>\n",
       "      <td>1.000000</td>\n",
       "      <td>0.000000</td>\n",
       "      <td>0.000000</td>\n",
       "      <td>0.000000</td>\n",
       "      <td>0.000000</td>\n",
       "      <td>0.000000</td>\n",
       "      <td>0.000000</td>\n",
       "      <td>0.000000</td>\n",
       "      <td>0.000000</td>\n",
       "      <td>0.000000</td>\n",
       "      <td>0.000000</td>\n",
       "      <td>0.000000</td>\n",
       "      <td>0.000000</td>\n",
       "      <td>0.000000</td>\n",
       "    </tr>\n",
       "    <tr>\n",
       "      <th>25%</th>\n",
       "      <td>9791.000000</td>\n",
       "      <td>4.000000</td>\n",
       "      <td>5.000000</td>\n",
       "      <td>2.000000</td>\n",
       "      <td>0.000000</td>\n",
       "      <td>0.000000</td>\n",
       "      <td>0.000000</td>\n",
       "      <td>0.000000</td>\n",
       "      <td>0.000000</td>\n",
       "      <td>0.000000</td>\n",
       "      <td>0.000000</td>\n",
       "      <td>0.000000</td>\n",
       "      <td>0.000000</td>\n",
       "      <td>0.000000</td>\n",
       "      <td>0.000000</td>\n",
       "      <td>0.000000</td>\n",
       "      <td>0.000000</td>\n",
       "    </tr>\n",
       "    <tr>\n",
       "      <th>50%</th>\n",
       "      <td>19581.000000</td>\n",
       "      <td>6.000000</td>\n",
       "      <td>6.000000</td>\n",
       "      <td>2.000000</td>\n",
       "      <td>0.000000</td>\n",
       "      <td>0.000000</td>\n",
       "      <td>0.000000</td>\n",
       "      <td>0.000000</td>\n",
       "      <td>0.000000</td>\n",
       "      <td>0.000000</td>\n",
       "      <td>0.000000</td>\n",
       "      <td>0.000000</td>\n",
       "      <td>0.000000</td>\n",
       "      <td>0.000000</td>\n",
       "      <td>0.000000</td>\n",
       "      <td>0.000000</td>\n",
       "      <td>0.000000</td>\n",
       "    </tr>\n",
       "    <tr>\n",
       "      <th>75%</th>\n",
       "      <td>29371.000000</td>\n",
       "      <td>9.000000</td>\n",
       "      <td>8.000000</td>\n",
       "      <td>3.000000</td>\n",
       "      <td>1.000000</td>\n",
       "      <td>0.000000</td>\n",
       "      <td>0.000000</td>\n",
       "      <td>0.000000</td>\n",
       "      <td>0.000000</td>\n",
       "      <td>1.000000</td>\n",
       "      <td>1.000000</td>\n",
       "      <td>0.000000</td>\n",
       "      <td>0.000000</td>\n",
       "      <td>0.000000</td>\n",
       "      <td>0.000000</td>\n",
       "      <td>0.000000</td>\n",
       "      <td>0.000000</td>\n",
       "    </tr>\n",
       "    <tr>\n",
       "      <th>max</th>\n",
       "      <td>39161.000000</td>\n",
       "      <td>16.000000</td>\n",
       "      <td>15.000000</td>\n",
       "      <td>4.000000</td>\n",
       "      <td>3.000000</td>\n",
       "      <td>1.000000</td>\n",
       "      <td>1.000000</td>\n",
       "      <td>1.000000</td>\n",
       "      <td>2.000000</td>\n",
       "      <td>3.000000</td>\n",
       "      <td>2.000000</td>\n",
       "      <td>2.000000</td>\n",
       "      <td>1.000000</td>\n",
       "      <td>1.000000</td>\n",
       "      <td>4.000000</td>\n",
       "      <td>1.000000</td>\n",
       "      <td>1.000000</td>\n",
       "    </tr>\n",
       "  </tbody>\n",
       "</table>\n",
       "</div>"
      ],
      "text/plain": [
       "                 id  campaign_var_1  campaign_var_2  products_purchased  \\\n",
       "count  39161.000000    39161.000000    39161.000000        18250.000000   \n",
       "mean   19581.000000        6.523812        6.452746            2.154137   \n",
       "std    11304.951283        3.472944        2.614296            0.779815   \n",
       "min        1.000000        1.000000        1.000000            1.000000   \n",
       "25%     9791.000000        4.000000        5.000000            2.000000   \n",
       "50%    19581.000000        6.000000        6.000000            2.000000   \n",
       "75%    29371.000000        9.000000        8.000000            3.000000   \n",
       "max    39161.000000       16.000000       15.000000            4.000000   \n",
       "\n",
       "       user_activity_var_1  user_activity_var_2  user_activity_var_3  \\\n",
       "count         39161.000000         39161.000000         39161.000000   \n",
       "mean              0.400092             0.006716             0.102832   \n",
       "std               0.509194             0.081676             0.303743   \n",
       "min               0.000000             0.000000             0.000000   \n",
       "25%               0.000000             0.000000             0.000000   \n",
       "50%               0.000000             0.000000             0.000000   \n",
       "75%               1.000000             0.000000             0.000000   \n",
       "max               3.000000             1.000000             1.000000   \n",
       "\n",
       "       user_activity_var_4  user_activity_var_5  user_activity_var_6  \\\n",
       "count         39161.000000         39161.000000         39161.000000   \n",
       "mean              0.011465             0.151503             0.499834   \n",
       "std               0.106463             0.359681             0.558166   \n",
       "min               0.000000             0.000000             0.000000   \n",
       "25%               0.000000             0.000000             0.000000   \n",
       "50%               0.000000             0.000000             0.000000   \n",
       "75%               0.000000             0.000000             1.000000   \n",
       "max               1.000000             2.000000             3.000000   \n",
       "\n",
       "       user_activity_var_7  user_activity_var_8  user_activity_var_9  \\\n",
       "count         39161.000000         39161.000000         39161.000000   \n",
       "mean              0.286612             0.174434             0.011440   \n",
       "std               0.455784             0.379689             0.106346   \n",
       "min               0.000000             0.000000             0.000000   \n",
       "25%               0.000000             0.000000             0.000000   \n",
       "50%               0.000000             0.000000             0.000000   \n",
       "75%               1.000000             0.000000             0.000000   \n",
       "max               2.000000             2.000000             1.000000   \n",
       "\n",
       "       user_activity_var_10  user_activity_var_11  user_activity_var_12  \\\n",
       "count          39161.000000          39161.000000          39161.000000   \n",
       "mean               0.000383              0.218942              0.000562   \n",
       "std                0.019568              0.431544              0.023696   \n",
       "min                0.000000              0.000000              0.000000   \n",
       "25%                0.000000              0.000000              0.000000   \n",
       "50%                0.000000              0.000000              0.000000   \n",
       "75%                0.000000              0.000000              0.000000   \n",
       "max                1.000000              4.000000              1.000000   \n",
       "\n",
       "                buy  \n",
       "count  39161.000000  \n",
       "mean       0.051020  \n",
       "std        0.220042  \n",
       "min        0.000000  \n",
       "25%        0.000000  \n",
       "50%        0.000000  \n",
       "75%        0.000000  \n",
       "max        1.000000  "
      ]
     },
     "execution_count": 1775,
     "metadata": {},
     "output_type": "execute_result"
    }
   ],
   "source": [
    "df.describe()"
   ]
  },
  {
   "cell_type": "code",
   "execution_count": 1776,
   "id": "ca059eed-3494-48a8-87aa-56b566733d46",
   "metadata": {},
   "outputs": [
    {
     "data": {
      "text/html": [
       "<div>\n",
       "<style scoped>\n",
       "    .dataframe tbody tr th:only-of-type {\n",
       "        vertical-align: middle;\n",
       "    }\n",
       "\n",
       "    .dataframe tbody tr th {\n",
       "        vertical-align: top;\n",
       "    }\n",
       "\n",
       "    .dataframe thead th {\n",
       "        text-align: right;\n",
       "    }\n",
       "</style>\n",
       "<table border=\"1\" class=\"dataframe\">\n",
       "  <thead>\n",
       "    <tr style=\"text-align: right;\">\n",
       "      <th></th>\n",
       "      <th>created_at</th>\n",
       "      <th>signup_date</th>\n",
       "    </tr>\n",
       "  </thead>\n",
       "  <tbody>\n",
       "    <tr>\n",
       "      <th>count</th>\n",
       "      <td>39161</td>\n",
       "      <td>24048</td>\n",
       "    </tr>\n",
       "    <tr>\n",
       "      <th>unique</th>\n",
       "      <td>365</td>\n",
       "      <td>1800</td>\n",
       "    </tr>\n",
       "    <tr>\n",
       "      <th>top</th>\n",
       "      <td>2021-12-26</td>\n",
       "      <td>2021-07-18</td>\n",
       "    </tr>\n",
       "    <tr>\n",
       "      <th>freq</th>\n",
       "      <td>181</td>\n",
       "      <td>45</td>\n",
       "    </tr>\n",
       "  </tbody>\n",
       "</table>\n",
       "</div>"
      ],
      "text/plain": [
       "        created_at signup_date\n",
       "count        39161       24048\n",
       "unique         365        1800\n",
       "top     2021-12-26  2021-07-18\n",
       "freq           181          45"
      ]
     },
     "execution_count": 1776,
     "metadata": {},
     "output_type": "execute_result"
    }
   ],
   "source": [
    "df.describe(exclude='number')"
   ]
  },
  {
   "cell_type": "code",
   "execution_count": null,
   "id": "f0aad8db-c11e-425c-bb93-f3cd57dea3fa",
   "metadata": {},
   "outputs": [],
   "source": []
  },
  {
   "cell_type": "code",
   "execution_count": 1777,
   "id": "f3be98ce-dd47-4f98-b4b8-fa605928ec50",
   "metadata": {},
   "outputs": [
    {
     "name": "stdout",
     "output_type": "stream",
     "text": [
      "                count      mean\n",
      "campaign_var_1                 \n",
      "1                1593  0.060891\n",
      "2                3486  0.071429\n",
      "3                3784  0.072939\n",
      "4                4018  0.068940\n",
      "5                4060  0.065764\n",
      "6                4061  0.056144\n",
      "7                3756  0.052982\n",
      "8                3407  0.044614\n",
      "9                2866  0.035939\n",
      "10               2392  0.025502\n",
      "11               1873  0.025627\n",
      "12               1455  0.016495\n",
      "13               1059  0.011331\n",
      "14                714  0.002801\n",
      "15                456  0.006579\n",
      "16                181  0.000000 \n",
      "\n",
      "                count      mean\n",
      "campaign_var_2                 \n",
      "1                 589  0.037351\n",
      "2                1788  0.058166\n",
      "3                2883  0.058966\n",
      "4                4213  0.077854\n",
      "5                5250  0.072381\n",
      "6                5744  0.063545\n",
      "7                5472  0.053545\n",
      "8                4690  0.040299\n",
      "9                3537  0.028838\n",
      "10               2298  0.014795\n",
      "11               1410  0.004965\n",
      "12                761  0.003942\n",
      "13                351  0.002849\n",
      "14                151  0.000000\n",
      "15                 24  0.000000 \n",
      "\n",
      "                    count      mean\n",
      "products_purchased                 \n",
      "1.0                  3643  0.066429\n",
      "2.0                  8867  0.043194\n",
      "3.0                  5024  0.050557\n",
      "4.0                   716  0.103352 \n",
      "\n"
     ]
    }
   ],
   "source": [
    "print(df.groupby('campaign_var_1')['buy'].agg(['count', 'mean']),'\\n')\n",
    "print(df.groupby('campaign_var_2')['buy'].agg(['count', 'mean']),'\\n')\n",
    "print(df.groupby('products_purchased')['buy'].agg(['count', 'mean']),'\\n')"
   ]
  },
  {
   "cell_type": "code",
   "execution_count": 1778,
   "id": "1ec16a8e-55d4-4e65-b9dc-59e1d936e05b",
   "metadata": {},
   "outputs": [
    {
     "name": "stdout",
     "output_type": "stream",
     "text": [
      "                     count      mean\n",
      "user_activity_var_1                 \n",
      "0                    23869  0.044283\n",
      "1                    14917  0.059395\n",
      "2                      374  0.147059\n",
      "3                        1  0.000000 \n",
      "\n",
      "                     count      mean\n",
      "user_activity_var_2                 \n",
      "0                    38898  0.044604\n",
      "1                      263  1.000000 \n",
      "\n",
      "                     count      mean\n",
      "user_activity_var_3                 \n",
      "0                    35134  0.050635\n",
      "1                     4027  0.054383 \n",
      "\n",
      "                     count      mean\n",
      "user_activity_var_4                 \n",
      "0                    38712  0.041667\n",
      "1                      449  0.857461 \n",
      "\n",
      "                     count      mean\n",
      "user_activity_var_5                 \n",
      "0                    33244  0.036097\n",
      "1                     5901  0.132520\n",
      "2                       16  1.000000 \n",
      "\n",
      "                     count      mean\n",
      "user_activity_var_6                 \n",
      "0                    20777  0.052895\n",
      "1                    17209  0.049509\n",
      "2                     1160  0.040517\n",
      "3                       15  0.000000 \n",
      "\n",
      "                     count      mean\n",
      "user_activity_var_7                 \n",
      "0                    28001  0.054891\n",
      "1                    11096  0.041547\n",
      "2                       64  0.000000 \n",
      "\n",
      "                     count      mean\n",
      "user_activity_var_8                 \n",
      "0                    32333  0.060867\n",
      "1                     6825  0.004396\n",
      "2                        3  0.000000 \n",
      "\n",
      "                     count      mean\n",
      "user_activity_var_9                 \n",
      "0                    38713  0.040038\n",
      "1                      448  1.000000 \n",
      "\n",
      "                      count      mean\n",
      "user_activity_var_10                 \n",
      "0                     39146  0.050657\n",
      "1                        15  1.000000 \n",
      "\n",
      "                      count      mean\n",
      "user_activity_var_11                 \n",
      "0                     30859  0.026994\n",
      "1                      8055  0.114339\n",
      "2                       223  0.986547\n",
      "3                        23  1.000000\n",
      "4                         1  1.000000 \n",
      "\n",
      "                      count      mean\n",
      "user_activity_var_12                 \n",
      "0                     39139  0.050666\n",
      "1                        22  0.681818 \n",
      "\n",
      "     count  mean\n",
      "buy             \n",
      "0    37163   0.0\n",
      "1     1998   1.0 \n",
      "\n"
     ]
    }
   ],
   "source": [
    "for col in df.iloc[:,6:].columns:\n",
    "    print(df.groupby(col)['buy'].agg(['count', 'mean']),'\\n')"
   ]
  },
  {
   "cell_type": "code",
   "execution_count": 1781,
   "id": "400c7756-802c-4ec7-b299-f90438bc6f19",
   "metadata": {},
   "outputs": [
    {
     "data": {
      "text/plain": [
       "<seaborn.axisgrid.FacetGrid at 0x156f7badb80>"
      ]
     },
     "execution_count": 1781,
     "metadata": {},
     "output_type": "execute_result"
    },
    {
     "data": {
      "image/png": "[encoded data removed]",
      "text/plain": [
       "<Figure size 402.375x360 with 1 Axes>"
      ]
     },
     "metadata": {
      "needs_background": "light"
     },
     "output_type": "display_data"
    },
    {
     "data": {
      "image/png": "[encoded data removed]",
      "text/plain": [
       "<Figure size 402.375x360 with 1 Axes>"
      ]
     },
     "metadata": {
      "needs_background": "light"
     },
     "output_type": "display_data"
    }
   ],
   "source": [
    "sns.displot(x=df['campaign_var_1'], hue=df['buy'], kde=True)\n",
    "sns.displot(x=df['campaign_var_2'], hue=df['buy'], kde=True)"
   ]
  },
  {
   "cell_type": "code",
   "execution_count": 1788,
   "id": "13921c72-7a3e-4e97-8b58-dd672fcc037f",
   "metadata": {},
   "outputs": [
    {
     "data": {
      "text/plain": [
       "<AxesSubplot:xlabel='products_purchased', ylabel='campaign_var_2'>"
      ]
     },
     "execution_count": 1788,
     "metadata": {},
     "output_type": "execute_result"
    },
    {
     "data": {
      "image/png": "[encoded data removed]",
      "text/plain": [
       "<Figure size 720x432 with 1 Axes>"
      ]
     },
     "metadata": {
      "needs_background": "light"
     },
     "output_type": "display_data"
    }
   ],
   "source": [
    "plt.figure(figsize=(10,6))\n",
    "sns.barplot(data=df, y='campaign_var_2', x='products_purchased', hue='buy')"
   ]
  },
  {
   "cell_type": "code",
   "execution_count": 1785,
   "id": "3ef93ff8-33ff-463d-9cfb-ce3ebd8311b2",
   "metadata": {},
   "outputs": [],
   "source": [
    "created = pd.to_datetime(df['created_at'])\n",
    "signup = pd.to_datetime(df['signup_date'])"
   ]
  },
  {
   "cell_type": "code",
   "execution_count": 1787,
   "id": "edc69bed-a99e-44c5-8afc-e25d88f6054a",
   "metadata": {},
   "outputs": [
    {
     "data": {
      "text/plain": [
       "0.0016542049890822471"
      ]
     },
     "execution_count": 1787,
     "metadata": {},
     "output_type": "execute_result"
    }
   ],
   "source": [
    "# imp - When user is not signed up, chances of buying product are very small\n",
    "df.loc[signup.isna(), 'buy'].mean()"
   ]
  },
  {
   "cell_type": "code",
   "execution_count": 819,
   "id": "f8b62dad-f3de-450b-a786-f05bc4f42650",
   "metadata": {},
   "outputs": [
    {
     "data": {
      "text/plain": [
       "0.05221917808219178"
      ]
     },
     "execution_count": 819,
     "metadata": {},
     "output_type": "execute_result"
    }
   ],
   "source": [
    "df.loc[~df['products_purchased'].isna(), 'buy'].mean()"
   ]
  },
  {
   "cell_type": "code",
   "execution_count": 1789,
   "id": "7479db94-5ee1-4368-b9f3-417a7823790b",
   "metadata": {},
   "outputs": [
    {
     "data": {
      "text/plain": [
       "<AxesSubplot:ylabel='Density'>"
      ]
     },
     "execution_count": 1789,
     "metadata": {},
     "output_type": "execute_result"
    },
    {
     "data": {
      "image/png": "[encoded data removed]",
      "text/plain": [
       "<Figure size 432x288 with 1 Axes>"
      ]
     },
     "metadata": {
      "needs_background": "light"
     },
     "output_type": "display_data"
    }
   ],
   "source": [
    "# signups have been mainly 2020 and 2021\n",
    "signup.dt.year.plot(kind='kde')"
   ]
  },
  {
   "cell_type": "code",
   "execution_count": 1796,
   "id": "d20884dc-9568-430c-88e9-560358d5dc76",
   "metadata": {},
   "outputs": [
    {
     "data": {
      "text/plain": [
       "<AxesSubplot:ylabel='Frequency'>"
      ]
     },
     "execution_count": 1796,
     "metadata": {},
     "output_type": "execute_result"
    },
    {
     "data": {
      "image/png": "[encoded data removed]",
      "text/plain": [
       "<Figure size 432x288 with 1 Axes>"
      ]
     },
     "metadata": {
      "needs_background": "light"
     },
     "output_type": "display_data"
    }
   ],
   "source": [
    "(created-signup).dt.days.plot(kind='hist', bins=20)"
   ]
  },
  {
   "cell_type": "code",
   "execution_count": 2382,
   "id": "e714ac0d-4d93-493d-9b65-47778a0b097c",
   "metadata": {},
   "outputs": [
    {
     "name": "stdout",
     "output_type": "stream",
     "text": [
      "0.0    8136\n",
      "2.0    2484\n",
      "3.0    1260\n",
      "1.0    1106\n",
      "4.0     198\n",
      "Name: products_purchased, dtype: int64 \n",
      "\n",
      "0    8207\n",
      "1    4857\n",
      "2     120\n",
      "Name: user_activity_var_1, dtype: int64 \n",
      "\n",
      "0    13128\n",
      "1       56\n",
      "Name: user_activity_var_2, dtype: int64 \n",
      "\n",
      "0    11822\n",
      "1     1362\n",
      "Name: user_activity_var_3, dtype: int64 \n",
      "\n",
      "0    13090\n",
      "1       94\n",
      "Name: user_activity_var_4, dtype: int64 \n",
      "\n",
      "0    11169\n",
      "1     2015\n",
      "Name: user_activity_var_5, dtype: int64 \n",
      "\n",
      "0    6713\n",
      "1    6019\n",
      "2     447\n",
      "3       5\n",
      "Name: user_activity_var_6, dtype: int64 \n",
      "\n",
      "0    9187\n",
      "1    3980\n",
      "2      17\n",
      "Name: user_activity_var_7, dtype: int64 \n",
      "\n",
      "0    11304\n",
      "1     1879\n",
      "2        1\n",
      "Name: user_activity_var_8, dtype: int64 \n",
      "\n",
      "0    13074\n",
      "1      109\n",
      "2        1\n",
      "Name: user_activity_var_9, dtype: int64 \n",
      "\n",
      "0    13181\n",
      "1        3\n",
      "Name: user_activity_var_10, dtype: int64 \n",
      "\n",
      "0    9995\n",
      "1    3049\n",
      "2     140\n",
      "Name: user_activity_var_11, dtype: int64 \n",
      "\n",
      "1    6649\n",
      "0    6535\n",
      "Name: signup_na, dtype: int64 \n",
      "\n",
      "1    8136\n",
      "0    5048\n",
      "Name: products_purchased_na, dtype: int64 \n",
      "\n",
      "59     1094\n",
      "55     1093\n",
      "53     1073\n",
      "58     1062\n",
      "60     1057\n",
      "54     1038\n",
      "62     1037\n",
      "57     1030\n",
      "56     1020\n",
      "63     1017\n",
      "61     1006\n",
      "64      995\n",
      "65      356\n",
      "104     306\n",
      "Name: created_week, dtype: Int64 \n",
      "\n",
      " 1    7754\n",
      " 0    2981\n",
      "-1    1642\n",
      "-2     597\n",
      "-3     180\n",
      "-4      25\n",
      "-5       4\n",
      "-6       1\n",
      "Name: signup_year, dtype: int64 \n",
      "\n",
      "10    750\n",
      "11    747\n",
      "12    743\n",
      "9     733\n",
      "8     706\n",
      "5     691\n",
      "7     680\n",
      "6     677\n",
      "1     665\n",
      "3     661\n",
      "4     617\n",
      "2     607\n",
      "13    336\n",
      "52    286\n",
      "51    167\n",
      "44    147\n",
      "46    139\n",
      "41    136\n",
      "48    136\n",
      "33    135\n",
      "50    134\n",
      "47    133\n",
      "37    132\n",
      "42    130\n",
      "40    129\n",
      "45    127\n",
      "49    123\n",
      "32    117\n",
      "38    113\n",
      "35    113\n",
      "19    113\n",
      "43    111\n",
      "31    110\n",
      "34    110\n",
      "22    110\n",
      "36    109\n",
      "30    109\n",
      "27    106\n",
      "16    103\n",
      "28    103\n",
      "29    101\n",
      "39     97\n",
      "23     96\n",
      "14     91\n",
      "25     91\n",
      "26     88\n",
      "15     87\n",
      "18     84\n",
      "21     84\n",
      "24     81\n",
      "17     73\n",
      "20     70\n",
      "53     47\n",
      "Name: signup_week, dtype: Int64 \n",
      "\n",
      "0       7256\n",
      "13        22\n",
      "9         20\n",
      "139       19\n",
      "218       19\n",
      "        ... \n",
      "1031       1\n",
      "1240       1\n",
      "1489       1\n",
      "1396       1\n",
      "1221       1\n",
      "Name: delay, Length: 1205, dtype: int64 \n",
      "\n",
      "0.000000      9802\n",
      "114.000000      12\n",
      "3.000000        12\n",
      "115.000000      11\n",
      "133.000000      11\n",
      "              ... \n",
      "96.666667        1\n",
      "590.000000       1\n",
      "545.000000       1\n",
      "374.000000       1\n",
      "86.500000        1\n",
      "Name: delay_per_purchase, Length: 1531, dtype: int64 \n",
      "\n"
     ]
    }
   ],
   "source": [
    "for col in test_df.iloc[:,2:].columns:\n",
    "    print(test_df[col].value_counts(),'\\n')"
   ]
  },
  {
   "cell_type": "markdown",
   "id": "22175d50-46ad-4615-9349-f15cd546fa51",
   "metadata": {},
   "source": [
    "## Preprocessing <a class=\"anchor\" id=\"first-bullet\"></a>"
   ]
  },
  {
   "cell_type": "code",
   "execution_count": 2384,
   "id": "f932c039-0343-444e-af2d-7b80c0f84d92",
   "metadata": {},
   "outputs": [],
   "source": [
    "def preprocess_data(df):\n",
    "    \n",
    "    # add new column to signify missing values\n",
    "    df['signup_na'] = df['signup_date'].isna() * 1\n",
    "    df['products_purchased_na'] = df['products_purchased'].isna() * 1\n",
    "    \n",
    "    # combine low frequency categories\n",
    "    df.loc[df['campaign_var_1']>14, 'campaign_var_1'] = 14\n",
    "    df.loc[df['campaign_var_2']>11, 'campaign_var_2'] = 11\n",
    "    df.loc[df['user_activity_var_11']>2, 'user_activity_var_11'] = 2\n",
    "    df.loc[df['user_activity_var_1']>2, 'user_activity_var_1'] = 2\n",
    "    df.loc[df['user_activity_var_6']>1, 'user_activity_var_5'] = 1\n",
    "    df.loc[df['user_activity_var_7']>2, 'user_activity_var_7'] = 2\n",
    "    df.loc[df['user_activity_var_8']>1, 'user_activity_var_8'] = 1\n",
    "\n",
    "    # Fill missing values\n",
    "    df.loc[(df['products_purchased'].isna())&(df['signup_date'].isna()), 'products_purchased'] = 0  # if not signed up, products will be 0\n",
    "    df.loc[df['products_purchased'].isna(), 'products_purchased'] = 0 #df['products_purchased'].mean()  # mean imputation\n",
    "    df.loc[df['signup_date'].isna(), 'signup_date'] = df.loc[df['signup_date'].isna(), 'created_at']  # if signup missing, make same as created date\n",
    "    \n",
    "    signup = pd.to_datetime(df['signup_date'])\n",
    "    created = pd.to_datetime(df['created_at'])\n",
    "\n",
    "    df['created_week'] = (created.dt.year-2021)*52 + created.dt.isocalendar().week\n",
    "    df['signup_year'] = signup.dt.year - 2021\n",
    "    df['signup_week'] = signup.dt.isocalendar().week\n",
    "    \n",
    "    # create new feature\n",
    "    # delay - time period between signup and lead creation\n",
    "    delay = (created-signup).dt.days\n",
    "    df['delay'] = delay\n",
    "    # in case signup is after lead created\n",
    "    df.loc[(df['delay']<0), 'delay'] = 0\n",
    "    \n",
    "    # no of days between product purchase\n",
    "    df['delay_per_purchase'] = df['delay']/df['products_purchased']\n",
    "    df.loc[np.isinf(df['delay_per_purchase']), 'delay_per_purchase'] = 0 #df['delay_per_purchase'].mean()\n",
    "    df.loc[np.isnan(df['delay_per_purchase']), 'delay_per_purchase'] = 0\n",
    "    \n",
    "    # Drop columns\n",
    "    # user_activity_var_12 - almost constant columns\n",
    "    # 'created_at', 'signup_date' - date columns, date info extracted\n",
    "    # id - only for identification of records\n",
    "    df = df.drop(columns=['id', 'created_at', 'signup_date', 'user_activity_var_12'])\n",
    "    \n",
    "    return df"
   ]
  },
  {
   "cell_type": "code",
   "execution_count": 2385,
   "id": "278ef822-3f21-4ebf-967d-4f42155b39ac",
   "metadata": {},
   "outputs": [],
   "source": [
    "df = preprocess_data(df)"
   ]
  },
  {
   "cell_type": "code",
   "execution_count": 2386,
   "id": "e4a84d35-0b74-4961-8cb0-66bbb54985be",
   "metadata": {},
   "outputs": [],
   "source": [
    "test_df = pd.read_csv('test_Wf7sxXF.csv')\n",
    "test_ids = test_df['id']\n",
    "test_df = preprocess_data(test_df)"
   ]
  },
  {
   "cell_type": "code",
   "execution_count": 2387,
   "id": "c71c41ee-6693-4848-8bd5-a7edcabe96ae",
   "metadata": {},
   "outputs": [
    {
     "data": {
      "text/plain": [
       "(0, 0)"
      ]
     },
     "execution_count": 2387,
     "metadata": {},
     "output_type": "execute_result"
    }
   ],
   "source": [
    "# Check null counts\n",
    "df.isna().sum().sum(), test_df.isna().sum().sum()"
   ]
  },
  {
   "cell_type": "code",
   "execution_count": 2388,
   "id": "ef87677a-a84e-4363-8773-420965ae84cd",
   "metadata": {},
   "outputs": [
    {
     "data": {
      "text/plain": [
       "Index(['campaign_var_1', 'campaign_var_2', 'products_purchased',\n",
       "       'user_activity_var_1', 'user_activity_var_2', 'user_activity_var_3',\n",
       "       'user_activity_var_4', 'user_activity_var_5', 'user_activity_var_6',\n",
       "       'user_activity_var_7', 'user_activity_var_8', 'user_activity_var_9',\n",
       "       'user_activity_var_10', 'user_activity_var_11', 'buy', 'signup_na',\n",
       "       'products_purchased_na', 'created_week', 'signup_year', 'signup_week',\n",
       "       'delay', 'delay_per_purchase'],\n",
       "      dtype='object')"
      ]
     },
     "execution_count": 2388,
     "metadata": {},
     "output_type": "execute_result"
    }
   ],
   "source": [
    "df.columns"
   ]
  },
  {
   "cell_type": "code",
   "execution_count": 2389,
   "id": "09b31263-3d72-4430-850b-fb78687d027f",
   "metadata": {},
   "outputs": [],
   "source": [
    "category_columns = ['products_purchased', 'products_purchased_na', 'signup_na', 'campaign_var_1', 'campaign_var_2', 'user_activity_var_1','user_activity_var_2','user_activity_var_3','user_activity_var_4','user_activity_var_5','user_activity_var_6','user_activity_var_7','user_activity_var_8','user_activity_var_9','user_activity_var_10', 'user_activity_var_11']"
   ]
  },
  {
   "cell_type": "code",
   "execution_count": 2390,
   "id": "71cd9641-a396-481d-950b-59ad7ff8ab18",
   "metadata": {},
   "outputs": [],
   "source": [
    "numerical_columns = list(set(df.columns).difference(set(category_columns)))\n",
    "numerical_columns.remove('buy')"
   ]
  },
  {
   "cell_type": "code",
   "execution_count": 2391,
   "id": "e5536dbb-e10c-4f25-8b33-23cda520e15d",
   "metadata": {},
   "outputs": [
    {
     "data": {
      "text/plain": [
       "['delay', 'delay_per_purchase', 'signup_year', 'signup_week', 'created_week']"
      ]
     },
     "execution_count": 2391,
     "metadata": {},
     "output_type": "execute_result"
    }
   ],
   "source": [
    "numerical_columns"
   ]
  },
  {
   "cell_type": "markdown",
   "id": "fc88d933-e42c-43b0-b6d3-ffcb28f0230b",
   "metadata": {},
   "source": [
    "### Encoding"
   ]
  },
  {
   "cell_type": "code",
   "execution_count": 2392,
   "id": "8b15b1b9-df61-45c6-a616-21e92cf83993",
   "metadata": {
    "tags": []
   },
   "outputs": [],
   "source": [
    "from sklearn.preprocessing import OneHotEncoder"
   ]
  },
  {
   "cell_type": "code",
   "execution_count": 2393,
   "id": "b0294735-be64-4617-8a80-ed45deb292b8",
   "metadata": {},
   "outputs": [],
   "source": [
    "# One hot encoding for categorical variables"
   ]
  },
  {
   "cell_type": "code",
   "execution_count": 2394,
   "id": "11aa6792-9d7e-4193-88b5-8755943d51c4",
   "metadata": {},
   "outputs": [],
   "source": [
    "X = df.drop(columns='buy')\n",
    "y = df['buy']"
   ]
  },
  {
   "cell_type": "code",
   "execution_count": 2395,
   "id": "f3ce6254-f3e3-417a-b675-d3a77a25de66",
   "metadata": {},
   "outputs": [],
   "source": [
    "ohe = OneHotEncoder(drop='if_binary', handle_unknown='ignore')"
   ]
  },
  {
   "cell_type": "code",
   "execution_count": 2396,
   "id": "23f84559-2eb5-405b-9e85-89d11ecc98c6",
   "metadata": {},
   "outputs": [],
   "source": [
    "arr = ohe.fit_transform(X[category_columns])\n",
    "encoded = pd.DataFrame(arr.toarray(), columns=ohe.get_feature_names_out())\n",
    "encoded = encoded.reset_index(drop=True)"
   ]
  },
  {
   "cell_type": "code",
   "execution_count": 2397,
   "id": "beed519d-e399-41fa-ad2e-1f4319d209ed",
   "metadata": {},
   "outputs": [],
   "source": [
    "X = pd.concat([X[numerical_columns], encoded], axis=1)"
   ]
  },
  {
   "cell_type": "code",
   "execution_count": 2398,
   "id": "b4e8c5a7-ef5b-4224-8fc6-b4c8903c8551",
   "metadata": {},
   "outputs": [
    {
     "name": "stderr",
     "output_type": "stream",
     "text": [
      "c:\\users\\sparsh singhal\\appdata\\local\\programs\\python\\python39\\lib\\site-packages\\sklearn\\preprocessing\\_encoders.py:170: UserWarning: Found unknown categories in columns [13] during transform. These unknown categories will be encoded as all zeros\n",
      "  warnings.warn(\n"
     ]
    }
   ],
   "source": [
    "arr = ohe.transform(test_df[category_columns])\n",
    "encoded_test = pd.DataFrame(arr.toarray(), columns=ohe.get_feature_names_out())\n",
    "encoded_test = encoded_test.reset_index(drop=True)"
   ]
  },
  {
   "cell_type": "code",
   "execution_count": 2399,
   "id": "ae614fbe-0657-4c74-b5a9-2052ed5d29fe",
   "metadata": {},
   "outputs": [],
   "source": [
    "X_test = pd.concat([test_df[numerical_columns], encoded_test], axis=1)"
   ]
  },
  {
   "cell_type": "code",
   "execution_count": 2400,
   "id": "b25a8f44-e386-4721-8f4f-59bdae2e9776",
   "metadata": {},
   "outputs": [
    {
     "data": {
      "text/plain": [
       "((13184, 59), (39161, 59))"
      ]
     },
     "execution_count": 2400,
     "metadata": {},
     "output_type": "execute_result"
    }
   ],
   "source": [
    "X_test.shape, X.shape"
   ]
  },
  {
   "cell_type": "code",
   "execution_count": null,
   "id": "66530efd-1ddc-4184-a6ac-41b4eeac7adc",
   "metadata": {},
   "outputs": [],
   "source": []
  },
  {
   "cell_type": "markdown",
   "id": "16528e20-16cb-4e86-8834-d24141f95951",
   "metadata": {},
   "source": [
    "### Splitting into train and Validation"
   ]
  },
  {
   "cell_type": "code",
   "execution_count": 2401,
   "id": "bfa2e952-02e8-4413-a9a7-3b3c69f9ef05",
   "metadata": {},
   "outputs": [],
   "source": [
    "from sklearn.model_selection import train_test_split"
   ]
  },
  {
   "cell_type": "code",
   "execution_count": 2402,
   "id": "755aa39c-c4c3-4859-ad5a-05aa17852218",
   "metadata": {},
   "outputs": [],
   "source": [
    "X_train, X_val, y_train, y_val = train_test_split(X, y, test_size=0.25, stratify=y, random_state=20)"
   ]
  },
  {
   "cell_type": "code",
   "execution_count": 2403,
   "id": "903b0da7-962d-49cb-93e6-617b48aad9d6",
   "metadata": {},
   "outputs": [
    {
     "data": {
      "text/plain": [
       "((29370, 59), (9791, 59))"
      ]
     },
     "execution_count": 2403,
     "metadata": {},
     "output_type": "execute_result"
    }
   ],
   "source": [
    "X_train.shape, X_val.shape"
   ]
  },
  {
   "cell_type": "code",
   "execution_count": 2404,
   "id": "f507adaf-a217-41a6-9a7f-df434a3d2e5b",
   "metadata": {},
   "outputs": [
    {
     "data": {
      "text/plain": [
       "(array([27872,  1498], dtype=int64), array([9291,  500], dtype=int64))"
      ]
     },
     "execution_count": 2404,
     "metadata": {},
     "output_type": "execute_result"
    }
   ],
   "source": [
    "np.bincount(y_train), np.bincount(y_val)"
   ]
  },
  {
   "cell_type": "markdown",
   "id": "abc82d78-a0b4-4767-a1c7-88e229be9464",
   "metadata": {},
   "source": [
    "### Transform"
   ]
  },
  {
   "cell_type": "code",
   "execution_count": 2405,
   "id": "43e883ea-977e-495a-939d-672cddd45152",
   "metadata": {},
   "outputs": [],
   "source": [
    "from sklearn.preprocessing import PowerTransformer"
   ]
  },
  {
   "cell_type": "code",
   "execution_count": 2406,
   "id": "b75f518a-8ee5-4265-9a83-f2f1202b1e77",
   "metadata": {},
   "outputs": [],
   "source": [
    "pt = PowerTransformer(standardize=False)"
   ]
  },
  {
   "cell_type": "code",
   "execution_count": 2407,
   "id": "99a0715d-34f6-4caf-a4ab-bb34c29d2d74",
   "metadata": {},
   "outputs": [],
   "source": [
    "X_train[numerical_columns] = pt.fit_transform(X_train[numerical_columns])"
   ]
  },
  {
   "cell_type": "code",
   "execution_count": 2408,
   "id": "3a668592-2679-417a-817e-f3780090b6db",
   "metadata": {},
   "outputs": [],
   "source": [
    "X_val[numerical_columns] = pt.transform(X_val[numerical_columns])\n",
    "X_test[numerical_columns] = pt.transform(X_test[numerical_columns])"
   ]
  },
  {
   "cell_type": "code",
   "execution_count": 2409,
   "id": "3e927c4a-0034-46f1-922b-710f5b25b70f",
   "metadata": {},
   "outputs": [],
   "source": [
    "X[numerical_columns] = pt.transform(X[numerical_columns])"
   ]
  },
  {
   "cell_type": "markdown",
   "id": "015d2fee-5e1f-46dc-83ad-a724378ac23d",
   "metadata": {},
   "source": [
    "### SCALING"
   ]
  },
  {
   "cell_type": "code",
   "execution_count": 2410,
   "id": "dc3773ca-8a85-4cdf-b888-3cdc7b81e678",
   "metadata": {},
   "outputs": [],
   "source": [
    "from sklearn.preprocessing import StandardScaler"
   ]
  },
  {
   "cell_type": "code",
   "execution_count": 2411,
   "id": "15b34987-1c2f-4e59-9e38-9490a2d473f8",
   "metadata": {},
   "outputs": [],
   "source": [
    "X_train_scaled = X_train.copy()\n",
    "X_val_scaled = X_val.copy()\n",
    "X_test_scaled = X_test.copy()"
   ]
  },
  {
   "cell_type": "code",
   "execution_count": 2412,
   "id": "1ac5b78c-0029-4108-b170-c717a9be1a24",
   "metadata": {},
   "outputs": [],
   "source": [
    "sc = StandardScaler()\n",
    "X_train_scaled[numerical_columns] = sc.fit_transform(X_train[numerical_columns])\n",
    "X_val_scaled[numerical_columns] = sc.transform(X_val[numerical_columns])\n",
    "X_test_scaled[numerical_columns] = sc.transform(X_test_scaled[numerical_columns])"
   ]
  },
  {
   "cell_type": "code",
   "execution_count": 2413,
   "id": "8b5fea20-b5de-4331-a023-49bdde0982ec",
   "metadata": {},
   "outputs": [],
   "source": [
    "X_scaled = X.copy()\n",
    "X_scaled[numerical_columns] = sc.transform(X[numerical_columns])"
   ]
  },
  {
   "cell_type": "code",
   "execution_count": null,
   "id": "fd998472-40af-42f1-813f-2f8d73929cf2",
   "metadata": {},
   "outputs": [],
   "source": []
  },
  {
   "cell_type": "markdown",
   "id": "cb3abbcf-80c1-44a3-a139-c211f5c6b907",
   "metadata": {},
   "source": [
    "### Oversampling"
   ]
  },
  {
   "cell_type": "code",
   "execution_count": 2295,
   "id": "e722b39e-7d03-4ee7-b46f-e4a940f2374a",
   "metadata": {},
   "outputs": [],
   "source": [
    "# Oversampling to handle imbalanced data"
   ]
  },
  {
   "cell_type": "code",
   "execution_count": 2296,
   "id": "09ce8052-dadd-41fd-8817-271165f60f6e",
   "metadata": {},
   "outputs": [],
   "source": [
    "from imblearn.over_sampling import SMOTEN\n",
    "from collections import Counter"
   ]
  },
  {
   "cell_type": "code",
   "execution_count": 2297,
   "id": "2a334cb2-037b-4505-9786-2002a622bb58",
   "metadata": {},
   "outputs": [],
   "source": [
    "resample = SMOTEN()\n",
    "X_train_smt, y_train_smt = resample.fit_resample(X_train_scaled, y_train)"
   ]
  },
  {
   "cell_type": "code",
   "execution_count": 2298,
   "id": "5769a052-a3a8-46e8-b4f5-0dbd1340980b",
   "metadata": {},
   "outputs": [
    {
     "name": "stdout",
     "output_type": "stream",
     "text": [
      "Counter({0: 27872, 1: 27872})\n"
     ]
    }
   ],
   "source": [
    "counter = Counter(y_train_smt)\n",
    "print(counter)"
   ]
  },
  {
   "cell_type": "markdown",
   "id": "645fe630-c8d8-4f2c-8414-7bd8e6057403",
   "metadata": {},
   "source": [
    "## Model building <a class=\"anchor\" id=\"second-bullet\"></a>"
   ]
  },
  {
   "cell_type": "code",
   "execution_count": 2414,
   "id": "7f5dc285-f1dd-428d-80e3-d7b5ed72fbd5",
   "metadata": {},
   "outputs": [],
   "source": [
    "from sklearn.linear_model import LogisticRegression, LinearRegression\n",
    "from sklearn.ensemble import AdaBoostClassifier, RandomForestClassifier, GradientBoostingClassifier\n",
    "from sklearn.tree import DecisionTreeClassifier\n",
    "from sklearn.metrics import classification_report, f1_score, confusion_matrix\n",
    "from sklearn.model_selection import cross_val_score"
   ]
  },
  {
   "cell_type": "code",
   "execution_count": 2415,
   "id": "eef9d52c-b4f3-41d2-bc23-843f4e7e114a",
   "metadata": {},
   "outputs": [],
   "source": [
    "def make_submission(model, test_df, cols):\n",
    "    pred = model.predict(test_df[cols])\n",
    "    res = pd.concat([test_ids, pd.Series(pred, name='buy')], axis=1)\n",
    "    res.to_csv('submit1.csv', index=False)"
   ]
  },
  {
   "cell_type": "code",
   "execution_count": 2416,
   "id": "7a327ebf-9c66-464b-85ce-9b53245a6e58",
   "metadata": {},
   "outputs": [],
   "source": [
    "top_features = X_train.columns.tolist()"
   ]
  },
  {
   "cell_type": "code",
   "execution_count": 2422,
   "id": "cef1fca8-274f-401f-947c-6a175be529f8",
   "metadata": {},
   "outputs": [],
   "source": [
    "# clf = AdaBoostClassifier(DecisionTreeClassifier(class_weight='balanced', max_depth=10, min_samples_split=20), random_state=10)\n",
    "clf = RandomForestClassifier(max_depth=15, random_state=10)\n",
    "# clf = GradientBoostingClassifier(n_estimators=500, learning_rate=0.01, random_state=100, max_depth=10, min_samples_split=3, random_state=10)\n",
    "# clf = LogisticRegression(solver='saga', max_iter=1000, penalty='l1', random_state=10)"
   ]
  },
  {
   "cell_type": "code",
   "execution_count": 2423,
   "id": "a1b83472-58d0-495e-88e8-08d86777fe3c",
   "metadata": {},
   "outputs": [
    {
     "data": {
      "text/plain": [
       "RandomForestClassifier(max_depth=15, random_state=10)"
      ]
     },
     "execution_count": 2423,
     "metadata": {},
     "output_type": "execute_result"
    }
   ],
   "source": [
    "# clf.fit(X_train_scaled, y_train)\n",
    "clf.fit(X_train_scaled, y_train)"
   ]
  },
  {
   "cell_type": "code",
   "execution_count": 2424,
   "id": "0620152d-3565-4d4d-b6d4-d8cdbc2e7078",
   "metadata": {},
   "outputs": [],
   "source": [
    "y_pred_train = clf.predict(X_train_scaled)\n",
    "y_pred = clf.predict(X_val_scaled)"
   ]
  },
  {
   "cell_type": "code",
   "execution_count": 2425,
   "id": "f6bb156f-2bca-4e77-adc0-f7506b2e2a92",
   "metadata": {},
   "outputs": [
    {
     "name": "stdout",
     "output_type": "stream",
     "text": [
      "train\n",
      "               precision    recall  f1-score   support\n",
      "\n",
      "           0       0.98      1.00      0.99     27872\n",
      "           1       1.00      0.61      0.76      1498\n",
      "\n",
      "    accuracy                           0.98     29370\n",
      "   macro avg       0.99      0.80      0.87     29370\n",
      "weighted avg       0.98      0.98      0.98     29370\n",
      "\n",
      "validation\n",
      "               precision    recall  f1-score   support\n",
      "\n",
      "           0       0.97      1.00      0.99      9291\n",
      "           1       0.95      0.50      0.66       500\n",
      "\n",
      "    accuracy                           0.97      9791\n",
      "   macro avg       0.96      0.75      0.82      9791\n",
      "weighted avg       0.97      0.97      0.97      9791\n",
      "\n"
     ]
    }
   ],
   "source": [
    "report1 = classification_report(y_train, y_pred_train)\n",
    "report2 = classification_report(y_val, y_pred)\n",
    "\n",
    "print('train\\n', report1)\n",
    "print('validation\\n', report2)"
   ]
  },
  {
   "cell_type": "code",
   "execution_count": 2426,
   "id": "f2045ce2-6999-4c63-885b-0de4bd4fbfea",
   "metadata": {},
   "outputs": [
    {
     "data": {
      "text/plain": [
       "array([[9277,   14],\n",
       "       [ 249,  251]], dtype=int64)"
      ]
     },
     "execution_count": 2426,
     "metadata": {},
     "output_type": "execute_result"
    }
   ],
   "source": [
    "confusion_matrix(y_val, y_pred)"
   ]
  },
  {
   "cell_type": "code",
   "execution_count": 2115,
   "id": "1b7010a2-4f66-4b68-853d-7d977a695f26",
   "metadata": {},
   "outputs": [],
   "source": [
    "# Cross validation to verify our predictions work well across the dataset"
   ]
  },
  {
   "cell_type": "code",
   "execution_count": 2116,
   "id": "6b72fa7a-417b-4f32-b006-6936d6e77437",
   "metadata": {},
   "outputs": [],
   "source": [
    "# cv_score = cross_val_score(clf, X_train_scaled, y, cv=4, scoring='f1')"
   ]
  },
  {
   "cell_type": "code",
   "execution_count": 2117,
   "id": "d08ef997-100e-43b3-b98b-f975c853e64b",
   "metadata": {},
   "outputs": [],
   "source": [
    "# print('average', cv_score.mean())\n",
    "# cv_score"
   ]
  },
  {
   "cell_type": "code",
   "execution_count": 2427,
   "id": "fa88a3e9-c2c3-4b58-9032-c81f673657bc",
   "metadata": {},
   "outputs": [],
   "source": [
    "make_submission(clf, X_test_scaled, X_test_scaled.columns)"
   ]
  },
  {
   "cell_type": "code",
   "execution_count": 2429,
   "id": "88c8ee19-cb85-486e-b526-aef08df8ae0f",
   "metadata": {},
   "outputs": [],
   "source": [
    "# imp_features = pd.Series(clf.coef_[0], index=X_train.columns).sort_values(ascending=False)[:]*100\n",
    "imp_features = pd.Series(clf.feature_importances_, index=X_train.columns).sort_values(ascending=False)[:]*100"
   ]
  },
  {
   "cell_type": "code",
   "execution_count": 2430,
   "id": "8a82891c-4f54-498d-bb7a-5ca93c4b2b97",
   "metadata": {},
   "outputs": [
    {
     "data": {
      "text/plain": [
       "user_activity_var_9_1      20.185125\n",
       "user_activity_var_4_1      15.608871\n",
       "user_activity_var_2_1      11.770497\n",
       "user_activity_var_11_2      9.933872\n",
       "delay                       4.423603\n",
       "user_activity_var_11_0      4.329995\n",
       "user_activity_var_11_1      3.677752\n",
       "signup_week                 2.766715\n",
       "created_week                2.759631\n",
       "signup_na_1                 2.308379\n",
       "delay_per_purchase          2.233610\n",
       "signup_year                 2.076926\n",
       "user_activity_var_5_0       1.986136\n",
       "user_activity_var_5_1       1.564190\n",
       "user_activity_var_8_1       0.703014\n",
       "user_activity_var_1_0       0.625973\n",
       "user_activity_var_6_1       0.595816\n",
       "user_activity_var_1_1       0.595419\n",
       "products_purchased_na_1     0.556967\n",
       "user_activity_var_6_0       0.544972\n",
       "user_activity_var_10_1      0.509338\n",
       "user_activity_var_1_2       0.500440\n",
       "products_purchased_0.0      0.493160\n",
       "user_activity_var_5_2       0.478578\n",
       "campaign_var_1_3            0.429554\n",
       "campaign_var_2_5            0.428763\n",
       "user_activity_var_7_1       0.405281\n",
       "campaign_var_2_4            0.402927\n",
       "user_activity_var_7_0       0.402459\n",
       "campaign_var_2_6            0.392895\n",
       "products_purchased_2.0      0.389607\n",
       "campaign_var_1_2            0.378185\n",
       "campaign_var_1_4            0.370138\n",
       "campaign_var_1_5            0.350781\n",
       "user_activity_var_3_1       0.330647\n",
       "products_purchased_1.0      0.323083\n",
       "campaign_var_2_7            0.320704\n",
       "campaign_var_1_6            0.295893\n",
       "campaign_var_2_8            0.295497\n",
       "campaign_var_2_3            0.283777\n",
       "products_purchased_3.0      0.274679\n",
       "campaign_var_1_7            0.252755\n",
       "campaign_var_1_1            0.242359\n",
       "campaign_var_1_8            0.227777\n",
       "campaign_var_2_9            0.216042\n",
       "campaign_var_1_9            0.205668\n",
       "products_purchased_4.0      0.192640\n",
       "campaign_var_2_2            0.190126\n",
       "user_activity_var_6_2       0.189348\n",
       "campaign_var_2_11           0.181277\n",
       "campaign_var_1_10           0.149305\n",
       "campaign_var_2_10           0.142239\n",
       "campaign_var_1_11           0.127652\n",
       "campaign_var_2_1            0.109781\n",
       "campaign_var_1_12           0.107320\n",
       "campaign_var_1_13           0.089388\n",
       "campaign_var_1_14           0.069170\n",
       "user_activity_var_7_2       0.003271\n",
       "user_activity_var_6_3       0.000035\n",
       "dtype: float64"
      ]
     },
     "execution_count": 2430,
     "metadata": {},
     "output_type": "execute_result"
    }
   ],
   "source": [
    "imp_features"
   ]
  },
  {
   "cell_type": "code",
   "execution_count": 2431,
   "id": "5e9ef7f7-672a-4dc3-be3c-cd3acbf2fc02",
   "metadata": {},
   "outputs": [],
   "source": [
    "# top_features = imp_features[-15:].index.tolist() + imp_features[:15].index.tolist()\n",
    "# top_features = imp_features[30:].index.tolist()\n",
    "top_features = X_train.columns.tolist()"
   ]
  },
  {
   "cell_type": "markdown",
   "id": "cc700850-91dc-47d3-86ce-b93110dceca4",
   "metadata": {},
   "source": [
    "## Neural Network"
   ]
  },
  {
   "cell_type": "code",
   "execution_count": 2432,
   "id": "39ef3d5a-0646-4804-9de7-19cfc4b48df2",
   "metadata": {},
   "outputs": [],
   "source": [
    "import tensorflow as tf\n",
    "from tensorflow import keras\n",
    "from tensorflow.keras import backend as K"
   ]
  },
  {
   "cell_type": "code",
   "execution_count": 2433,
   "id": "c4e9c690-1b3c-43a2-a435-a6128d8f3bec",
   "metadata": {},
   "outputs": [],
   "source": [
    "train_features = np.array(X_train_scaled[top_features])\n",
    "val_features = np.array(X_val_scaled[top_features])\n",
    "test_features = np.array(X_test_scaled[top_features])"
   ]
  },
  {
   "cell_type": "code",
   "execution_count": 2434,
   "id": "ac214dac-c8bd-4fbf-940a-15ba2d932725",
   "metadata": {},
   "outputs": [],
   "source": [
    "neg, pos = np.bincount(df['buy'])\n",
    "total = pos+neg"
   ]
  },
  {
   "cell_type": "code",
   "execution_count": 2457,
   "id": "5836b1f4-491d-46ce-bcdc-bbb34b0b5683",
   "metadata": {},
   "outputs": [
    {
     "data": {
      "text/plain": [
       "array([-2.92316696])"
      ]
     },
     "execution_count": 2457,
     "metadata": {},
     "output_type": "execute_result"
    }
   ],
   "source": [
    "initial_bias = np.log([pos/neg])\n",
    "initial_bias"
   ]
  },
  {
   "cell_type": "code",
   "execution_count": 2458,
   "id": "2db5a00e-2e30-47b6-b7fd-6c0de0be8db4",
   "metadata": {},
   "outputs": [
    {
     "name": "stdout",
     "output_type": "stream",
     "text": [
      "Weight for class 0: 0.53\n",
      "Weight for class 1: 9.80\n"
     ]
    }
   ],
   "source": [
    "# Scaling by total/2 helps keep the loss to a similar magnitude.\n",
    "# The sum of the weights of all examples stays the same.\n",
    "weight_for_0 = (1 / neg) * (total / 2.0)\n",
    "weight_for_1 = (1 / pos) * (total / 2.0)\n",
    "\n",
    "class_weight = {0: weight_for_0, 1: weight_for_1}\n",
    "\n",
    "print('Weight for class 0: {:.2f}'.format(weight_for_0))\n",
    "print('Weight for class 1: {:.2f}'.format(weight_for_1))"
   ]
  },
  {
   "cell_type": "code",
   "execution_count": 2459,
   "id": "76b3638a-4938-4606-a160-3629b1682acc",
   "metadata": {},
   "outputs": [],
   "source": [
    "# utility functions"
   ]
  },
  {
   "cell_type": "code",
   "execution_count": 2460,
   "id": "6499cc56-1891-4f9b-815e-4690253c191a",
   "metadata": {},
   "outputs": [],
   "source": [
    "def custom_f1(y_true, y_pred):    \n",
    "    def recall_m(y_true, y_pred):\n",
    "        TP = K.sum(K.round(K.clip(y_true * y_pred, 0, 1)))\n",
    "        Positives = K.sum(K.round(K.clip(y_true, 0, 1)))\n",
    "        \n",
    "        recall = TP / (Positives+K.epsilon())    \n",
    "        return recall \n",
    "    \n",
    "    \n",
    "    def precision_m(y_true, y_pred):\n",
    "        TP = K.sum(K.round(K.clip(y_true * y_pred, 0, 1)))\n",
    "        Pred_Positives = K.sum(K.round(K.clip(y_pred, 0, 1)))\n",
    "    \n",
    "        precision = TP / (Pred_Positives+K.epsilon())\n",
    "        return precision \n",
    "    \n",
    "    precision, recall = precision_m(y_true, y_pred), recall_m(y_true, y_pred)\n",
    "    \n",
    "    return 2*((precision*recall)/(precision+recall+K.epsilon()))"
   ]
  },
  {
   "cell_type": "code",
   "execution_count": 2461,
   "id": "d44f0e75-256e-4efe-8d73-f796d84fb9a1",
   "metadata": {},
   "outputs": [],
   "source": [
    "METRICS = [\n",
    "    keras.metrics.TruePositives(name='tp'),\n",
    "    keras.metrics.FalsePositives(name='fp'),\n",
    "    keras.metrics.TrueNegatives(name='tn'),\n",
    "    keras.metrics.FalseNegatives(name='fn'), \n",
    "    keras.metrics.BinaryAccuracy(name='accuracy'),\n",
    "    keras.metrics.Precision(name='precision'),\n",
    "    keras.metrics.Recall(name='recall'),\n",
    "    keras.metrics.AUC(name='auc'),\n",
    "    custom_f1,\n",
    "    keras.metrics.AUC(name='prc', curve='PR'), # precision-recall curve\n",
    "]"
   ]
  },
  {
   "cell_type": "code",
   "execution_count": 2476,
   "id": "eca3bb47-7aca-4fb3-810c-f4870aa2ce27",
   "metadata": {},
   "outputs": [],
   "source": [
    "def make_model(metrics=METRICS, learning_rate = 1e-3, output_bias=None, n_features=None):\n",
    "    if output_bias is not None:\n",
    "        output_bias = tf.keras.initializers.Constant(output_bias)\n",
    "    model = keras.Sequential([\n",
    "    keras.layers.Dense(\n",
    "      16, activation='relu',\n",
    "      input_shape=(n_features,)),\n",
    "    keras.layers.Dropout(0.5),\n",
    "    keras.layers.Dense(32, activation='relu'),\n",
    "    keras.layers.Dropout(0.2),\n",
    "    keras.layers.Dense(4, activation='sigmoid'),\n",
    "    keras.layers.Dropout(0.2),\n",
    "    keras.layers.Dense(1, activation='sigmoid',\n",
    "                         bias_initializer=output_bias),\n",
    "    ])\n",
    "\n",
    "    model.compile(\n",
    "      optimizer=keras.optimizers.Adam(learning_rate=learning_rate),\n",
    "      loss=keras.losses.BinaryCrossentropy(),\n",
    "      metrics=metrics)\n",
    "\n",
    "    return model"
   ]
  },
  {
   "cell_type": "code",
   "execution_count": 2477,
   "id": "b1ab6ba3-2ccf-4581-bd05-cf4a4e071f98",
   "metadata": {},
   "outputs": [],
   "source": [
    "colors = ['blue', 'orange']"
   ]
  },
  {
   "cell_type": "code",
   "execution_count": 2478,
   "id": "fb307960-9863-42f1-969f-a13b8590852e",
   "metadata": {},
   "outputs": [],
   "source": [
    "def plot_loss(history, label, n):\n",
    "  # Use a log scale on y-axis to show the wide range of values.\n",
    "    plt.semilogy(history.epoch, history.history['loss'],\n",
    "               color=colors[n], label='Train ' + label)\n",
    "    plt.semilogy(history.epoch, history.history['val_loss'],\n",
    "               color=colors[n], label='Val ' + label,\n",
    "               linestyle=\"--\")\n",
    "    plt.xlabel('Epoch')\n",
    "    plt.ylabel('Loss')\n"
   ]
  },
  {
   "cell_type": "code",
   "execution_count": 2479,
   "id": "b788edb9-5b19-4e9e-9c51-8d8fc984fdc9",
   "metadata": {},
   "outputs": [],
   "source": [
    "def plot_metrics(history):\n",
    "    metrics = ['loss', 'prc', 'precision', 'recall']\n",
    "    for n, metric in enumerate(metrics):\n",
    "        name = metric.replace(\"_\",\" \").capitalize()\n",
    "        plt.subplot(2,2,n+1)\n",
    "        plt.plot(history.epoch, history.history[metric], color=colors[0], label='Train')\n",
    "        plt.plot(history.epoch, history.history['val_'+metric],\n",
    "                 color=colors[0], linestyle=\"--\", label='Val')\n",
    "        plt.xlabel('Epoch')\n",
    "        plt.ylabel(name)\n",
    "        if metric == 'loss':\n",
    "            plt.ylim([0, plt.ylim()[1]])\n",
    "        elif metric == 'auc':\n",
    "            plt.ylim([0.8,1])\n",
    "        else:\n",
    "            plt.ylim([0,1])\n",
    "\n",
    "    plt.legend()\n"
   ]
  },
  {
   "cell_type": "code",
   "execution_count": 2480,
   "id": "b3bd0177-4127-4b47-9503-117e8eb60fee",
   "metadata": {},
   "outputs": [],
   "source": [
    "EPOCHS = 150\n",
    "BATCH_SIZE = 1024\n",
    "\n",
    "early_stopping = tf.keras.callbacks.EarlyStopping(\n",
    "    monitor='val_custom_f1', \n",
    "    verbose=1,\n",
    "    patience=30,\n",
    "    mode='max',\n",
    "    restore_best_weights=True)\n"
   ]
  },
  {
   "cell_type": "code",
   "execution_count": 2491,
   "id": "1a047912-f075-435f-ac86-67187f8aab0f",
   "metadata": {},
   "outputs": [
    {
     "data": {
      "text/plain": [
       "array([-2.92316696])"
      ]
     },
     "execution_count": 2491,
     "metadata": {},
     "output_type": "execute_result"
    }
   ],
   "source": [
    "initial_bias = np.log([pos/neg])\n",
    "initial_bias"
   ]
  },
  {
   "cell_type": "code",
   "execution_count": null,
   "id": "1d7b6fb7-f851-429a-8bba-4520f78f8926",
   "metadata": {},
   "outputs": [],
   "source": []
  },
  {
   "cell_type": "code",
   "execution_count": 2492,
   "id": "b85d5f2f-c6ef-4bd3-a146-9d5a383f5c8e",
   "metadata": {},
   "outputs": [],
   "source": [
    "model = make_model(output_bias=initial_bias, n_features=train_features.shape[1])\n",
    "# model.predict(train_features[:10])"
   ]
  },
  {
   "cell_type": "code",
   "execution_count": 2493,
   "id": "02cd76d6-e4e5-4060-94ec-7b6128ed3e52",
   "metadata": {},
   "outputs": [],
   "source": [
    "import os\n",
    "import tempfile"
   ]
  },
  {
   "cell_type": "code",
   "execution_count": 2494,
   "id": "7fd74e77-a58e-4571-9eb4-d33e6654686d",
   "metadata": {},
   "outputs": [],
   "source": [
    "initial_weights = os.path.join(tempfile.mkdtemp(), 'initial_weights')\n",
    "model.save_weights(initial_weights)"
   ]
  },
  {
   "cell_type": "code",
   "execution_count": 2495,
   "id": "bd553cb8-ada2-46d2-8439-40d17a84aeac",
   "metadata": {},
   "outputs": [
    {
     "name": "stdout",
     "output_type": "stream",
     "text": [
      "Epoch 1/150\n",
      "29/29 [==============================] - 3s 33ms/step - loss: 0.2413 - tp: 0.0000e+00 - fp: 0.0000e+00 - tn: 37163.0000 - fn: 1998.0000 - accuracy: 0.9490 - precision: 0.0000e+00 - recall: 0.0000e+00 - auc: 0.6523 - custom_f1: 0.0000e+00 - prc: 0.2329 - val_loss: 0.2230 - val_tp: 0.0000e+00 - val_fp: 0.0000e+00 - val_tn: 9291.0000 - val_fn: 500.0000 - val_accuracy: 0.9489 - val_precision: 0.0000e+00 - val_recall: 0.0000e+00 - val_auc: 0.5667 - val_custom_f1: 0.0000e+00 - val_prc: 0.0703\n",
      "Epoch 2/150\n",
      "29/29 [==============================] - 0s 5ms/step - loss: 0.2184 - tp: 0.0000e+00 - fp: 0.0000e+00 - tn: 27872.0000 - fn: 1498.0000 - accuracy: 0.9490 - precision: 0.0000e+00 - recall: 0.0000e+00 - auc: 0.5258 - custom_f1: 0.0000e+00 - prc: 0.0559 - val_loss: 0.2067 - val_tp: 0.0000e+00 - val_fp: 0.0000e+00 - val_tn: 9291.0000 - val_fn: 500.0000 - val_accuracy: 0.9489 - val_precision: 0.0000e+00 - val_recall: 0.0000e+00 - val_auc: 0.6582 - val_custom_f1: 0.0000e+00 - val_prc: 0.0993\n",
      "Epoch 3/150\n",
      "29/29 [==============================] - 0s 5ms/step - loss: 0.2044 - tp: 0.0000e+00 - fp: 0.0000e+00 - tn: 27872.0000 - fn: 1498.0000 - accuracy: 0.9490 - precision: 0.0000e+00 - recall: 0.0000e+00 - auc: 0.5938 - custom_f1: 0.0000e+00 - prc: 0.0691 - val_loss: 0.1976 - val_tp: 0.0000e+00 - val_fp: 0.0000e+00 - val_tn: 9291.0000 - val_fn: 500.0000 - val_accuracy: 0.9489 - val_precision: 0.0000e+00 - val_recall: 0.0000e+00 - val_auc: 0.7365 - val_custom_f1: 0.0000e+00 - val_prc: 0.1518\n",
      "Epoch 4/150\n",
      "29/29 [==============================] - 0s 5ms/step - loss: 0.1977 - tp: 0.0000e+00 - fp: 0.0000e+00 - tn: 27872.0000 - fn: 1498.0000 - accuracy: 0.9490 - precision: 0.0000e+00 - recall: 0.0000e+00 - auc: 0.6674 - custom_f1: 0.0000e+00 - prc: 0.0918 - val_loss: 0.1931 - val_tp: 0.0000e+00 - val_fp: 0.0000e+00 - val_tn: 9291.0000 - val_fn: 500.0000 - val_accuracy: 0.9489 - val_precision: 0.0000e+00 - val_recall: 0.0000e+00 - val_auc: 0.7719 - val_custom_f1: 0.0000e+00 - val_prc: 0.2064\n",
      "Epoch 5/150\n",
      "29/29 [==============================] - 0s 5ms/step - loss: 0.1933 - tp: 0.0000e+00 - fp: 0.0000e+00 - tn: 27872.0000 - fn: 1498.0000 - accuracy: 0.9490 - precision: 0.0000e+00 - recall: 0.0000e+00 - auc: 0.7272 - custom_f1: 0.0000e+00 - prc: 0.1294 - val_loss: 0.1881 - val_tp: 0.0000e+00 - val_fp: 0.0000e+00 - val_tn: 9291.0000 - val_fn: 500.0000 - val_accuracy: 0.9489 - val_precision: 0.0000e+00 - val_recall: 0.0000e+00 - val_auc: 0.8184 - val_custom_f1: 0.0000e+00 - val_prc: 0.2810\n",
      "Epoch 6/150\n",
      "29/29 [==============================] - 0s 5ms/step - loss: 0.1886 - tp: 0.0000e+00 - fp: 0.0000e+00 - tn: 27872.0000 - fn: 1498.0000 - accuracy: 0.9490 - precision: 0.0000e+00 - recall: 0.0000e+00 - auc: 0.7702 - custom_f1: 0.0000e+00 - prc: 0.1765 - val_loss: 0.1814 - val_tp: 0.0000e+00 - val_fp: 0.0000e+00 - val_tn: 9291.0000 - val_fn: 500.0000 - val_accuracy: 0.9489 - val_precision: 0.0000e+00 - val_recall: 0.0000e+00 - val_auc: 0.8394 - val_custom_f1: 0.0000e+00 - val_prc: 0.3420\n",
      "Epoch 7/150\n",
      "29/29 [==============================] - 0s 5ms/step - loss: 0.1825 - tp: 0.0000e+00 - fp: 0.0000e+00 - tn: 27872.0000 - fn: 1498.0000 - accuracy: 0.9490 - precision: 0.0000e+00 - recall: 0.0000e+00 - auc: 0.7976 - custom_f1: 0.0000e+00 - prc: 0.2227 - val_loss: 0.1735 - val_tp: 0.0000e+00 - val_fp: 0.0000e+00 - val_tn: 9291.0000 - val_fn: 500.0000 - val_accuracy: 0.9489 - val_precision: 0.0000e+00 - val_recall: 0.0000e+00 - val_auc: 0.8617 - val_custom_f1: 0.0000e+00 - val_prc: 0.3829\n",
      "Epoch 8/150\n",
      "29/29 [==============================] - 0s 5ms/step - loss: 0.1766 - tp: 0.0000e+00 - fp: 0.0000e+00 - tn: 27872.0000 - fn: 1498.0000 - accuracy: 0.9490 - precision: 0.0000e+00 - recall: 0.0000e+00 - auc: 0.8190 - custom_f1: 0.0000e+00 - prc: 0.2590 - val_loss: 0.1672 - val_tp: 0.0000e+00 - val_fp: 0.0000e+00 - val_tn: 9291.0000 - val_fn: 500.0000 - val_accuracy: 0.9489 - val_precision: 0.0000e+00 - val_recall: 0.0000e+00 - val_auc: 0.8750 - val_custom_f1: 0.0000e+00 - val_prc: 0.4229\n",
      "Epoch 9/150\n",
      "29/29 [==============================] - 0s 6ms/step - loss: 0.1729 - tp: 0.0000e+00 - fp: 0.0000e+00 - tn: 27872.0000 - fn: 1498.0000 - accuracy: 0.9490 - precision: 0.0000e+00 - recall: 0.0000e+00 - auc: 0.8293 - custom_f1: 0.0000e+00 - prc: 0.2724 - val_loss: 0.1624 - val_tp: 0.0000e+00 - val_fp: 0.0000e+00 - val_tn: 9291.0000 - val_fn: 500.0000 - val_accuracy: 0.9489 - val_precision: 0.0000e+00 - val_recall: 0.0000e+00 - val_auc: 0.8736 - val_custom_f1: 0.0000e+00 - val_prc: 0.4575\n",
      "Epoch 10/150\n",
      "29/29 [==============================] - 0s 5ms/step - loss: 0.1682 - tp: 0.0000e+00 - fp: 0.0000e+00 - tn: 27872.0000 - fn: 1498.0000 - accuracy: 0.9490 - precision: 0.0000e+00 - recall: 0.0000e+00 - auc: 0.8507 - custom_f1: 0.0000e+00 - prc: 0.3174 - val_loss: 0.1578 - val_tp: 0.0000e+00 - val_fp: 0.0000e+00 - val_tn: 9291.0000 - val_fn: 500.0000 - val_accuracy: 0.9489 - val_precision: 0.0000e+00 - val_recall: 0.0000e+00 - val_auc: 0.8970 - val_custom_f1: 0.0000e+00 - val_prc: 0.4938\n",
      "Epoch 11/150\n",
      "29/29 [==============================] - 0s 5ms/step - loss: 0.1633 - tp: 0.0000e+00 - fp: 0.0000e+00 - tn: 27872.0000 - fn: 1498.0000 - accuracy: 0.9490 - precision: 0.0000e+00 - recall: 0.0000e+00 - auc: 0.8697 - custom_f1: 0.0000e+00 - prc: 0.3636 - val_loss: 0.1534 - val_tp: 0.0000e+00 - val_fp: 0.0000e+00 - val_tn: 9291.0000 - val_fn: 500.0000 - val_accuracy: 0.9489 - val_precision: 0.0000e+00 - val_recall: 0.0000e+00 - val_auc: 0.9015 - val_custom_f1: 0.0000e+00 - val_prc: 0.5281\n",
      "Epoch 12/150\n",
      "29/29 [==============================] - 0s 5ms/step - loss: 0.1602 - tp: 1.0000 - fp: 0.0000e+00 - tn: 27872.0000 - fn: 1497.0000 - accuracy: 0.9490 - precision: 1.0000 - recall: 6.6756e-04 - auc: 0.8745 - custom_f1: 0.0011 - prc: 0.3843 - val_loss: 0.1501 - val_tp: 0.0000e+00 - val_fp: 0.0000e+00 - val_tn: 9291.0000 - val_fn: 500.0000 - val_accuracy: 0.9489 - val_precision: 0.0000e+00 - val_recall: 0.0000e+00 - val_auc: 0.9046 - val_custom_f1: 0.0000e+00 - val_prc: 0.5631\n",
      "Epoch 13/150\n",
      "29/29 [==============================] - 0s 5ms/step - loss: 0.1561 - tp: 52.0000 - fp: 10.0000 - tn: 27862.0000 - fn: 1446.0000 - accuracy: 0.9504 - precision: 0.8387 - recall: 0.0347 - auc: 0.8827 - custom_f1: 0.0658 - prc: 0.4072 - val_loss: 0.1471 - val_tp: 0.0000e+00 - val_fp: 0.0000e+00 - val_tn: 9291.0000 - val_fn: 500.0000 - val_accuracy: 0.9489 - val_precision: 0.0000e+00 - val_recall: 0.0000e+00 - val_auc: 0.9041 - val_custom_f1: 0.0000e+00 - val_prc: 0.5943\n",
      "Epoch 14/150\n",
      "29/29 [==============================] - 0s 5ms/step - loss: 0.1523 - tp: 108.0000 - fp: 35.0000 - tn: 27837.0000 - fn: 1390.0000 - accuracy: 0.9515 - precision: 0.7552 - recall: 0.0721 - auc: 0.8823 - custom_f1: 0.1297 - prc: 0.4400 - val_loss: 0.1440 - val_tp: 0.0000e+00 - val_fp: 0.0000e+00 - val_tn: 9291.0000 - val_fn: 500.0000 - val_accuracy: 0.9489 - val_precision: 0.0000e+00 - val_recall: 0.0000e+00 - val_auc: 0.8993 - val_custom_f1: 0.0000e+00 - val_prc: 0.6191\n",
      "Epoch 15/150\n",
      "29/29 [==============================] - 0s 5ms/step - loss: 0.1482 - tp: 177.0000 - fp: 55.0000 - tn: 27817.0000 - fn: 1321.0000 - accuracy: 0.9531 - precision: 0.7629 - recall: 0.1182 - auc: 0.8817 - custom_f1: 0.2005 - prc: 0.4773 - val_loss: 0.1409 - val_tp: 0.0000e+00 - val_fp: 0.0000e+00 - val_tn: 9291.0000 - val_fn: 500.0000 - val_accuracy: 0.9489 - val_precision: 0.0000e+00 - val_recall: 0.0000e+00 - val_auc: 0.9005 - val_custom_f1: 0.0000e+00 - val_prc: 0.6434\n",
      "Epoch 16/150\n",
      "29/29 [==============================] - 0s 5ms/step - loss: 0.1464 - tp: 234.0000 - fp: 79.0000 - tn: 27793.0000 - fn: 1264.0000 - accuracy: 0.9543 - precision: 0.7476 - recall: 0.1562 - auc: 0.8807 - custom_f1: 0.2566 - prc: 0.4863 - val_loss: 0.1383 - val_tp: 0.0000e+00 - val_fp: 0.0000e+00 - val_tn: 9291.0000 - val_fn: 500.0000 - val_accuracy: 0.9489 - val_precision: 0.0000e+00 - val_recall: 0.0000e+00 - val_auc: 0.8886 - val_custom_f1: 0.0000e+00 - val_prc: 0.6569\n",
      "Epoch 17/150\n",
      "29/29 [==============================] - 0s 5ms/step - loss: 0.1432 - tp: 241.0000 - fp: 78.0000 - tn: 27794.0000 - fn: 1257.0000 - accuracy: 0.9545 - precision: 0.7555 - recall: 0.1609 - auc: 0.8819 - custom_f1: 0.2635 - prc: 0.5174 - val_loss: 0.1362 - val_tp: 0.0000e+00 - val_fp: 0.0000e+00 - val_tn: 9291.0000 - val_fn: 500.0000 - val_accuracy: 0.9489 - val_precision: 0.0000e+00 - val_recall: 0.0000e+00 - val_auc: 0.8865 - val_custom_f1: 0.0000e+00 - val_prc: 0.6674\n",
      "Epoch 18/150\n",
      "29/29 [==============================] - 0s 5ms/step - loss: 0.1397 - tp: 272.0000 - fp: 59.0000 - tn: 27813.0000 - fn: 1226.0000 - accuracy: 0.9562 - precision: 0.8218 - recall: 0.1816 - auc: 0.8918 - custom_f1: 0.2933 - prc: 0.5591 - val_loss: 0.1331 - val_tp: 0.0000e+00 - val_fp: 0.0000e+00 - val_tn: 9291.0000 - val_fn: 500.0000 - val_accuracy: 0.9489 - val_precision: 0.0000e+00 - val_recall: 0.0000e+00 - val_auc: 0.9220 - val_custom_f1: 0.0000e+00 - val_prc: 0.6886\n",
      "Epoch 19/150\n",
      "29/29 [==============================] - 0s 5ms/step - loss: 0.1380 - tp: 285.0000 - fp: 84.0000 - tn: 27788.0000 - fn: 1213.0000 - accuracy: 0.9558 - precision: 0.7724 - recall: 0.1903 - auc: 0.9038 - custom_f1: 0.3030 - prc: 0.5693 - val_loss: 0.1311 - val_tp: 0.0000e+00 - val_fp: 0.0000e+00 - val_tn: 9291.0000 - val_fn: 500.0000 - val_accuracy: 0.9489 - val_precision: 0.0000e+00 - val_recall: 0.0000e+00 - val_auc: 0.9214 - val_custom_f1: 0.0000e+00 - val_prc: 0.6980\n",
      "Epoch 20/150\n",
      "29/29 [==============================] - 0s 5ms/step - loss: 0.1346 - tp: 308.0000 - fp: 76.0000 - tn: 27796.0000 - fn: 1190.0000 - accuracy: 0.9569 - precision: 0.8021 - recall: 0.2056 - auc: 0.9068 - custom_f1: 0.3219 - prc: 0.5926 - val_loss: 0.1286 - val_tp: 0.0000e+00 - val_fp: 0.0000e+00 - val_tn: 9291.0000 - val_fn: 500.0000 - val_accuracy: 0.9489 - val_precision: 0.0000e+00 - val_recall: 0.0000e+00 - val_auc: 0.9187 - val_custom_f1: 0.0000e+00 - val_prc: 0.7069\n",
      "Epoch 21/150\n",
      "29/29 [==============================] - 0s 5ms/step - loss: 0.1322 - tp: 356.0000 - fp: 81.0000 - tn: 27791.0000 - fn: 1142.0000 - accuracy: 0.9584 - precision: 0.8146 - recall: 0.2377 - auc: 0.9004 - custom_f1: 0.3686 - prc: 0.6121 - val_loss: 0.1267 - val_tp: 84.0000 - val_fp: 0.0000e+00 - val_tn: 9291.0000 - val_fn: 416.0000 - val_accuracy: 0.9575 - val_precision: 1.0000 - val_recall: 0.1680 - val_auc: 0.9112 - val_custom_f1: 0.2829 - val_prc: 0.7106\n",
      "Epoch 22/150\n",
      "29/29 [==============================] - 0s 5ms/step - loss: 0.1309 - tp: 408.0000 - fp: 91.0000 - tn: 27781.0000 - fn: 1090.0000 - accuracy: 0.9598 - precision: 0.8176 - recall: 0.2724 - auc: 0.9029 - custom_f1: 0.4046 - prc: 0.6156 - val_loss: 0.1252 - val_tp: 191.0000 - val_fp: 3.0000 - val_tn: 9288.0000 - val_fn: 309.0000 - val_accuracy: 0.9681 - val_precision: 0.9845 - val_recall: 0.3820 - val_auc: 0.9006 - val_custom_f1: 0.5455 - val_prc: 0.7113\n",
      "Epoch 23/150\n",
      "29/29 [==============================] - 0s 5ms/step - loss: 0.1279 - tp: 454.0000 - fp: 93.0000 - tn: 27779.0000 - fn: 1044.0000 - accuracy: 0.9613 - precision: 0.8300 - recall: 0.3031 - auc: 0.9007 - custom_f1: 0.4389 - prc: 0.6297 - val_loss: 0.1235 - val_tp: 226.0000 - val_fp: 6.0000 - val_tn: 9285.0000 - val_fn: 274.0000 - val_accuracy: 0.9714 - val_precision: 0.9741 - val_recall: 0.4520 - val_auc: 0.8960 - val_custom_f1: 0.6100 - val_prc: 0.7125\n",
      "Epoch 24/150\n",
      "29/29 [==============================] - 0s 5ms/step - loss: 0.1287 - tp: 441.0000 - fp: 92.0000 - tn: 27780.0000 - fn: 1057.0000 - accuracy: 0.9609 - precision: 0.8274 - recall: 0.2944 - auc: 0.8913 - custom_f1: 0.4338 - prc: 0.6176 - val_loss: 0.1223 - val_tp: 239.0000 - val_fp: 7.0000 - val_tn: 9284.0000 - val_fn: 261.0000 - val_accuracy: 0.9726 - val_precision: 0.9715 - val_recall: 0.4780 - val_auc: 0.8911 - val_custom_f1: 0.6379 - val_prc: 0.7112\n",
      "Epoch 25/150\n",
      "29/29 [==============================] - 0s 5ms/step - loss: 0.1270 - tp: 516.0000 - fp: 94.0000 - tn: 27778.0000 - fn: 982.0000 - accuracy: 0.9634 - precision: 0.8459 - recall: 0.3445 - auc: 0.8936 - custom_f1: 0.4875 - prc: 0.6304 - val_loss: 0.1205 - val_tp: 248.0000 - val_fp: 9.0000 - val_tn: 9282.0000 - val_fn: 252.0000 - val_accuracy: 0.9733 - val_precision: 0.9650 - val_recall: 0.4960 - val_auc: 0.8931 - val_custom_f1: 0.6544 - val_prc: 0.7154\n",
      "Epoch 26/150\n",
      "29/29 [==============================] - 0s 5ms/step - loss: 0.1244 - tp: 535.0000 - fp: 69.0000 - tn: 27803.0000 - fn: 963.0000 - accuracy: 0.9649 - precision: 0.8858 - recall: 0.3571 - auc: 0.8928 - custom_f1: 0.5050 - prc: 0.6578 - val_loss: 0.1192 - val_tp: 254.0000 - val_fp: 12.0000 - val_tn: 9279.0000 - val_fn: 246.0000 - val_accuracy: 0.9736 - val_precision: 0.9549 - val_recall: 0.5080 - val_auc: 0.8899 - val_custom_f1: 0.6619 - val_prc: 0.7153\n",
      "Epoch 27/150\n",
      "29/29 [==============================] - 0s 5ms/step - loss: 0.1233 - tp: 570.0000 - fp: 83.0000 - tn: 27789.0000 - fn: 928.0000 - accuracy: 0.9656 - precision: 0.8729 - recall: 0.3805 - auc: 0.8980 - custom_f1: 0.5231 - prc: 0.6495 - val_loss: 0.1190 - val_tp: 253.0000 - val_fp: 12.0000 - val_tn: 9279.0000 - val_fn: 247.0000 - val_accuracy: 0.9735 - val_precision: 0.9547 - val_recall: 0.5060 - val_auc: 0.9264 - val_custom_f1: 0.6601 - val_prc: 0.7215\n",
      "Epoch 28/150\n",
      "29/29 [==============================] - 0s 5ms/step - loss: 0.1211 - tp: 586.0000 - fp: 71.0000 - tn: 27801.0000 - fn: 912.0000 - accuracy: 0.9665 - precision: 0.8919 - recall: 0.3912 - auc: 0.9178 - custom_f1: 0.5447 - prc: 0.6739 - val_loss: 0.1169 - val_tp: 260.0000 - val_fp: 22.0000 - val_tn: 9269.0000 - val_fn: 240.0000 - val_accuracy: 0.9732 - val_precision: 0.9220 - val_recall: 0.5200 - val_auc: 0.9224 - val_custom_f1: 0.6635 - val_prc: 0.7247\n",
      "Epoch 29/150\n",
      "29/29 [==============================] - 0s 5ms/step - loss: 0.1196 - tp: 584.0000 - fp: 92.0000 - tn: 27780.0000 - fn: 914.0000 - accuracy: 0.9657 - precision: 0.8639 - recall: 0.3899 - auc: 0.9162 - custom_f1: 0.5361 - prc: 0.6742 - val_loss: 0.1159 - val_tp: 260.0000 - val_fp: 15.0000 - val_tn: 9276.0000 - val_fn: 240.0000 - val_accuracy: 0.9740 - val_precision: 0.9455 - val_recall: 0.5200 - val_auc: 0.9131 - val_custom_f1: 0.6693 - val_prc: 0.7243\n",
      "Epoch 30/150\n",
      "29/29 [==============================] - 0s 5ms/step - loss: 0.1192 - tp: 560.0000 - fp: 88.0000 - tn: 27784.0000 - fn: 938.0000 - accuracy: 0.9651 - precision: 0.8642 - recall: 0.3738 - auc: 0.9071 - custom_f1: 0.5159 - prc: 0.6751 - val_loss: 0.1154 - val_tp: 266.0000 - val_fp: 28.0000 - val_tn: 9263.0000 - val_fn: 234.0000 - val_accuracy: 0.9732 - val_precision: 0.9048 - val_recall: 0.5320 - val_auc: 0.9087 - val_custom_f1: 0.6687 - val_prc: 0.7212\n",
      "Epoch 31/150\n",
      "29/29 [==============================] - 0s 5ms/step - loss: 0.1172 - tp: 673.0000 - fp: 80.0000 - tn: 27792.0000 - fn: 825.0000 - accuracy: 0.9692 - precision: 0.8938 - recall: 0.4493 - auc: 0.9065 - custom_f1: 0.5935 - prc: 0.6817 - val_loss: 0.1143 - val_tp: 262.0000 - val_fp: 16.0000 - val_tn: 9275.0000 - val_fn: 238.0000 - val_accuracy: 0.9741 - val_precision: 0.9424 - val_recall: 0.5240 - val_auc: 0.9017 - val_custom_f1: 0.6715 - val_prc: 0.7234\n",
      "Epoch 32/150\n",
      "29/29 [==============================] - 0s 5ms/step - loss: 0.1169 - tp: 662.0000 - fp: 83.0000 - tn: 27789.0000 - fn: 836.0000 - accuracy: 0.9687 - precision: 0.8886 - recall: 0.4419 - auc: 0.9029 - custom_f1: 0.5909 - prc: 0.6804 - val_loss: 0.1134 - val_tp: 269.0000 - val_fp: 26.0000 - val_tn: 9265.0000 - val_fn: 231.0000 - val_accuracy: 0.9738 - val_precision: 0.9119 - val_recall: 0.5380 - val_auc: 0.9010 - val_custom_f1: 0.6752 - val_prc: 0.7225\n",
      "Epoch 33/150\n",
      "29/29 [==============================] - 0s 5ms/step - loss: 0.1174 - tp: 659.0000 - fp: 77.0000 - tn: 27795.0000 - fn: 839.0000 - accuracy: 0.9688 - precision: 0.8954 - recall: 0.4399 - auc: 0.9004 - custom_f1: 0.5868 - prc: 0.6754 - val_loss: 0.1133 - val_tp: 265.0000 - val_fp: 16.0000 - val_tn: 9275.0000 - val_fn: 235.0000 - val_accuracy: 0.9744 - val_precision: 0.9431 - val_recall: 0.5300 - val_auc: 0.8940 - val_custom_f1: 0.6757 - val_prc: 0.7148\n",
      "Epoch 34/150\n",
      "29/29 [==============================] - 0s 6ms/step - loss: 0.1161 - tp: 677.0000 - fp: 76.0000 - tn: 27796.0000 - fn: 821.0000 - accuracy: 0.9695 - precision: 0.8991 - recall: 0.4519 - auc: 0.9023 - custom_f1: 0.5960 - prc: 0.6790 - val_loss: 0.1124 - val_tp: 267.0000 - val_fp: 18.0000 - val_tn: 9273.0000 - val_fn: 233.0000 - val_accuracy: 0.9744 - val_precision: 0.9368 - val_recall: 0.5340 - val_auc: 0.8939 - val_custom_f1: 0.6790 - val_prc: 0.7178\n",
      "Epoch 35/150\n",
      "29/29 [==============================] - 0s 5ms/step - loss: 0.1157 - tp: 659.0000 - fp: 78.0000 - tn: 27794.0000 - fn: 839.0000 - accuracy: 0.9688 - precision: 0.8942 - recall: 0.4399 - auc: 0.8949 - custom_f1: 0.5879 - prc: 0.6760 - val_loss: 0.1116 - val_tp: 262.0000 - val_fp: 16.0000 - val_tn: 9275.0000 - val_fn: 238.0000 - val_accuracy: 0.9741 - val_precision: 0.9424 - val_recall: 0.5240 - val_auc: 0.8896 - val_custom_f1: 0.6715 - val_prc: 0.7184\n",
      "Epoch 36/150\n",
      "29/29 [==============================] - 0s 5ms/step - loss: 0.1145 - tp: 682.0000 - fp: 81.0000 - tn: 27791.0000 - fn: 816.0000 - accuracy: 0.9695 - precision: 0.8938 - recall: 0.4553 - auc: 0.9007 - custom_f1: 0.6039 - prc: 0.6809 - val_loss: 0.1110 - val_tp: 263.0000 - val_fp: 17.0000 - val_tn: 9274.0000 - val_fn: 237.0000 - val_accuracy: 0.9741 - val_precision: 0.9393 - val_recall: 0.5260 - val_auc: 0.8898 - val_custom_f1: 0.6722 - val_prc: 0.7182\n",
      "Epoch 37/150\n",
      "29/29 [==============================] - 0s 5ms/step - loss: 0.1130 - tp: 678.0000 - fp: 87.0000 - tn: 27785.0000 - fn: 820.0000 - accuracy: 0.9691 - precision: 0.8863 - recall: 0.4526 - auc: 0.9001 - custom_f1: 0.5964 - prc: 0.6865 - val_loss: 0.1103 - val_tp: 263.0000 - val_fp: 18.0000 - val_tn: 9273.0000 - val_fn: 237.0000 - val_accuracy: 0.9740 - val_precision: 0.9359 - val_recall: 0.5260 - val_auc: 0.8911 - val_custom_f1: 0.6715 - val_prc: 0.7166\n",
      "Epoch 38/150\n",
      "29/29 [==============================] - 0s 5ms/step - loss: 0.1113 - tp: 704.0000 - fp: 81.0000 - tn: 27791.0000 - fn: 794.0000 - accuracy: 0.9702 - precision: 0.8968 - recall: 0.4700 - auc: 0.9195 - custom_f1: 0.6162 - prc: 0.6985 - val_loss: 0.1096 - val_tp: 266.0000 - val_fp: 18.0000 - val_tn: 9273.0000 - val_fn: 234.0000 - val_accuracy: 0.9743 - val_precision: 0.9366 - val_recall: 0.5320 - val_auc: 0.9245 - val_custom_f1: 0.6769 - val_prc: 0.7248\n",
      "Epoch 39/150\n",
      "29/29 [==============================] - 0s 5ms/step - loss: 0.1112 - tp: 692.0000 - fp: 92.0000 - tn: 27780.0000 - fn: 806.0000 - accuracy: 0.9694 - precision: 0.8827 - recall: 0.4619 - auc: 0.9198 - custom_f1: 0.6057 - prc: 0.6988 - val_loss: 0.1091 - val_tp: 264.0000 - val_fp: 17.0000 - val_tn: 9274.0000 - val_fn: 236.0000 - val_accuracy: 0.9742 - val_precision: 0.9395 - val_recall: 0.5280 - val_auc: 0.9123 - val_custom_f1: 0.6736 - val_prc: 0.7283\n",
      "Epoch 40/150\n",
      "29/29 [==============================] - 0s 5ms/step - loss: 0.1101 - tp: 694.0000 - fp: 62.0000 - tn: 27810.0000 - fn: 804.0000 - accuracy: 0.9705 - precision: 0.9180 - recall: 0.4633 - auc: 0.9140 - custom_f1: 0.6153 - prc: 0.7043 - val_loss: 0.1085 - val_tp: 265.0000 - val_fp: 18.0000 - val_tn: 9273.0000 - val_fn: 235.0000 - val_accuracy: 0.9742 - val_precision: 0.9364 - val_recall: 0.5300 - val_auc: 0.9076 - val_custom_f1: 0.6753 - val_prc: 0.7267\n",
      "Epoch 41/150\n",
      "29/29 [==============================] - 0s 5ms/step - loss: 0.1104 - tp: 701.0000 - fp: 82.0000 - tn: 27790.0000 - fn: 797.0000 - accuracy: 0.9701 - precision: 0.8953 - recall: 0.4680 - auc: 0.9131 - custom_f1: 0.6079 - prc: 0.6992 - val_loss: 0.1083 - val_tp: 265.0000 - val_fp: 19.0000 - val_tn: 9272.0000 - val_fn: 235.0000 - val_accuracy: 0.9741 - val_precision: 0.9331 - val_recall: 0.5300 - val_auc: 0.8995 - val_custom_f1: 0.6745 - val_prc: 0.7158\n",
      "Epoch 42/150\n",
      "29/29 [==============================] - 0s 5ms/step - loss: 0.1090 - tp: 686.0000 - fp: 74.0000 - tn: 27798.0000 - fn: 812.0000 - accuracy: 0.9698 - precision: 0.9026 - recall: 0.4579 - auc: 0.9094 - custom_f1: 0.6017 - prc: 0.7097 - val_loss: 0.1078 - val_tp: 265.0000 - val_fp: 20.0000 - val_tn: 9271.0000 - val_fn: 235.0000 - val_accuracy: 0.9740 - val_precision: 0.9298 - val_recall: 0.5300 - val_auc: 0.8974 - val_custom_f1: 0.6729 - val_prc: 0.7191\n",
      "Epoch 43/150\n",
      "29/29 [==============================] - 0s 5ms/step - loss: 0.1090 - tp: 699.0000 - fp: 91.0000 - tn: 27781.0000 - fn: 799.0000 - accuracy: 0.9697 - precision: 0.8848 - recall: 0.4666 - auc: 0.9063 - custom_f1: 0.6082 - prc: 0.6967 - val_loss: 0.1072 - val_tp: 264.0000 - val_fp: 20.0000 - val_tn: 9271.0000 - val_fn: 236.0000 - val_accuracy: 0.9739 - val_precision: 0.9296 - val_recall: 0.5280 - val_auc: 0.9002 - val_custom_f1: 0.6724 - val_prc: 0.7232\n",
      "Epoch 44/150\n",
      "29/29 [==============================] - 0s 5ms/step - loss: 0.1087 - tp: 691.0000 - fp: 79.0000 - tn: 27793.0000 - fn: 807.0000 - accuracy: 0.9698 - precision: 0.8974 - recall: 0.4613 - auc: 0.9090 - custom_f1: 0.6071 - prc: 0.7038 - val_loss: 0.1070 - val_tp: 266.0000 - val_fp: 23.0000 - val_tn: 9268.0000 - val_fn: 234.0000 - val_accuracy: 0.9738 - val_precision: 0.9204 - val_recall: 0.5320 - val_auc: 0.8954 - val_custom_f1: 0.6731 - val_prc: 0.7157\n",
      "Epoch 45/150\n",
      "29/29 [==============================] - 0s 5ms/step - loss: 0.1073 - tp: 710.0000 - fp: 86.0000 - tn: 27786.0000 - fn: 788.0000 - accuracy: 0.9702 - precision: 0.8920 - recall: 0.4740 - auc: 0.9114 - custom_f1: 0.6181 - prc: 0.7091 - val_loss: 0.1066 - val_tp: 266.0000 - val_fp: 28.0000 - val_tn: 9263.0000 - val_fn: 234.0000 - val_accuracy: 0.9732 - val_precision: 0.9048 - val_recall: 0.5320 - val_auc: 0.8975 - val_custom_f1: 0.6694 - val_prc: 0.7144\n",
      "Epoch 46/150\n",
      "29/29 [==============================] - 0s 5ms/step - loss: 0.1068 - tp: 728.0000 - fp: 84.0000 - tn: 27788.0000 - fn: 770.0000 - accuracy: 0.9709 - precision: 0.8966 - recall: 0.4860 - auc: 0.9120 - custom_f1: 0.6280 - prc: 0.7075 - val_loss: 0.1063 - val_tp: 265.0000 - val_fp: 26.0000 - val_tn: 9265.0000 - val_fn: 235.0000 - val_accuracy: 0.9733 - val_precision: 0.9107 - val_recall: 0.5300 - val_auc: 0.8950 - val_custom_f1: 0.6694 - val_prc: 0.7203\n",
      "Epoch 47/150\n",
      "29/29 [==============================] - 0s 5ms/step - loss: 0.1066 - tp: 712.0000 - fp: 81.0000 - tn: 27791.0000 - fn: 786.0000 - accuracy: 0.9705 - precision: 0.8979 - recall: 0.4753 - auc: 0.9054 - custom_f1: 0.6173 - prc: 0.7081 - val_loss: 0.1066 - val_tp: 263.0000 - val_fp: 19.0000 - val_tn: 9272.0000 - val_fn: 237.0000 - val_accuracy: 0.9739 - val_precision: 0.9326 - val_recall: 0.5260 - val_auc: 0.8923 - val_custom_f1: 0.6705 - val_prc: 0.7187\n",
      "Epoch 48/150\n",
      "29/29 [==============================] - 0s 5ms/step - loss: 0.1074 - tp: 706.0000 - fp: 77.0000 - tn: 27795.0000 - fn: 792.0000 - accuracy: 0.9704 - precision: 0.9017 - recall: 0.4713 - auc: 0.9039 - custom_f1: 0.6201 - prc: 0.6982 - val_loss: 0.1055 - val_tp: 265.0000 - val_fp: 23.0000 - val_tn: 9268.0000 - val_fn: 235.0000 - val_accuracy: 0.9736 - val_precision: 0.9201 - val_recall: 0.5300 - val_auc: 0.8929 - val_custom_f1: 0.6716 - val_prc: 0.7130\n",
      "Epoch 49/150\n",
      "29/29 [==============================] - 0s 5ms/step - loss: 0.1056 - tp: 723.0000 - fp: 85.0000 - tn: 27787.0000 - fn: 775.0000 - accuracy: 0.9707 - precision: 0.8948 - recall: 0.4826 - auc: 0.9078 - custom_f1: 0.6241 - prc: 0.7112 - val_loss: 0.1057 - val_tp: 264.0000 - val_fp: 22.0000 - val_tn: 9269.0000 - val_fn: 236.0000 - val_accuracy: 0.9736 - val_precision: 0.9231 - val_recall: 0.5280 - val_auc: 0.8911 - val_custom_f1: 0.6697 - val_prc: 0.7125\n",
      "Epoch 50/150\n",
      "29/29 [==============================] - 0s 5ms/step - loss: 0.1060 - tp: 692.0000 - fp: 72.0000 - tn: 27800.0000 - fn: 806.0000 - accuracy: 0.9701 - precision: 0.9058 - recall: 0.4619 - auc: 0.9050 - custom_f1: 0.6097 - prc: 0.7088 - val_loss: 0.1052 - val_tp: 263.0000 - val_fp: 21.0000 - val_tn: 9270.0000 - val_fn: 237.0000 - val_accuracy: 0.9736 - val_precision: 0.9261 - val_recall: 0.5260 - val_auc: 0.8923 - val_custom_f1: 0.6692 - val_prc: 0.7117\n",
      "Epoch 51/150\n",
      "29/29 [==============================] - 0s 5ms/step - loss: 0.1040 - tp: 754.0000 - fp: 78.0000 - tn: 27794.0000 - fn: 744.0000 - accuracy: 0.9720 - precision: 0.9062 - recall: 0.5033 - auc: 0.9181 - custom_f1: 0.6421 - prc: 0.7165 - val_loss: 0.1050 - val_tp: 267.0000 - val_fp: 27.0000 - val_tn: 9264.0000 - val_fn: 233.0000 - val_accuracy: 0.9734 - val_precision: 0.9082 - val_recall: 0.5340 - val_auc: 0.9235 - val_custom_f1: 0.6718 - val_prc: 0.7200\n",
      "Epoch 52/150\n",
      "29/29 [==============================] - 0s 5ms/step - loss: 0.1054 - tp: 702.0000 - fp: 75.0000 - tn: 27797.0000 - fn: 796.0000 - accuracy: 0.9703 - precision: 0.9035 - recall: 0.4686 - auc: 0.9199 - custom_f1: 0.6137 - prc: 0.7153 - val_loss: 0.1046 - val_tp: 266.0000 - val_fp: 19.0000 - val_tn: 9272.0000 - val_fn: 234.0000 - val_accuracy: 0.9742 - val_precision: 0.9333 - val_recall: 0.5320 - val_auc: 0.9156 - val_custom_f1: 0.6759 - val_prc: 0.7197\n",
      "Epoch 53/150\n",
      "29/29 [==============================] - 0s 5ms/step - loss: 0.1048 - tp: 727.0000 - fp: 91.0000 - tn: 27781.0000 - fn: 771.0000 - accuracy: 0.9707 - precision: 0.8888 - recall: 0.4853 - auc: 0.9176 - custom_f1: 0.6280 - prc: 0.7111 - val_loss: 0.1042 - val_tp: 268.0000 - val_fp: 26.0000 - val_tn: 9265.0000 - val_fn: 232.0000 - val_accuracy: 0.9736 - val_precision: 0.9116 - val_recall: 0.5360 - val_auc: 0.9115 - val_custom_f1: 0.6734 - val_prc: 0.7160\n",
      "Epoch 54/150\n",
      "29/29 [==============================] - 0s 5ms/step - loss: 0.1027 - tp: 746.0000 - fp: 86.0000 - tn: 27786.0000 - fn: 752.0000 - accuracy: 0.9715 - precision: 0.8966 - recall: 0.4980 - auc: 0.9213 - custom_f1: 0.6364 - prc: 0.7231 - val_loss: 0.1037 - val_tp: 266.0000 - val_fp: 27.0000 - val_tn: 9264.0000 - val_fn: 234.0000 - val_accuracy: 0.9733 - val_precision: 0.9078 - val_recall: 0.5320 - val_auc: 0.9118 - val_custom_f1: 0.6695 - val_prc: 0.7191\n",
      "Epoch 55/150\n",
      "29/29 [==============================] - 0s 5ms/step - loss: 0.1039 - tp: 728.0000 - fp: 90.0000 - tn: 27782.0000 - fn: 770.0000 - accuracy: 0.9707 - precision: 0.8900 - recall: 0.4860 - auc: 0.9195 - custom_f1: 0.6262 - prc: 0.7141 - val_loss: 0.1038 - val_tp: 264.0000 - val_fp: 20.0000 - val_tn: 9271.0000 - val_fn: 236.0000 - val_accuracy: 0.9739 - val_precision: 0.9296 - val_recall: 0.5280 - val_auc: 0.9075 - val_custom_f1: 0.6724 - val_prc: 0.7192\n",
      "Epoch 56/150\n",
      "29/29 [==============================] - 0s 6ms/step - loss: 0.1033 - tp: 730.0000 - fp: 69.0000 - tn: 27803.0000 - fn: 768.0000 - accuracy: 0.9715 - precision: 0.9136 - recall: 0.4873 - auc: 0.9173 - custom_f1: 0.6310 - prc: 0.7168 - val_loss: 0.1032 - val_tp: 266.0000 - val_fp: 23.0000 - val_tn: 9268.0000 - val_fn: 234.0000 - val_accuracy: 0.9738 - val_precision: 0.9204 - val_recall: 0.5320 - val_auc: 0.9104 - val_custom_f1: 0.6734 - val_prc: 0.7208\n",
      "Epoch 57/150\n",
      "29/29 [==============================] - 0s 5ms/step - loss: 0.1040 - tp: 715.0000 - fp: 83.0000 - tn: 27789.0000 - fn: 783.0000 - accuracy: 0.9705 - precision: 0.8960 - recall: 0.4773 - auc: 0.9168 - custom_f1: 0.6195 - prc: 0.7104 - val_loss: 0.1028 - val_tp: 267.0000 - val_fp: 25.0000 - val_tn: 9266.0000 - val_fn: 233.0000 - val_accuracy: 0.9736 - val_precision: 0.9144 - val_recall: 0.5340 - val_auc: 0.9109 - val_custom_f1: 0.6733 - val_prc: 0.7224\n",
      "Epoch 58/150\n",
      "29/29 [==============================] - 0s 5ms/step - loss: 0.1028 - tp: 730.0000 - fp: 84.0000 - tn: 27788.0000 - fn: 768.0000 - accuracy: 0.9710 - precision: 0.8968 - recall: 0.4873 - auc: 0.9087 - custom_f1: 0.6319 - prc: 0.7149 - val_loss: 0.1030 - val_tp: 266.0000 - val_fp: 23.0000 - val_tn: 9268.0000 - val_fn: 234.0000 - val_accuracy: 0.9738 - val_precision: 0.9204 - val_recall: 0.5320 - val_auc: 0.9003 - val_custom_f1: 0.6726 - val_prc: 0.7223\n",
      "Epoch 59/150\n",
      "29/29 [==============================] - 0s 5ms/step - loss: 0.1012 - tp: 736.0000 - fp: 80.0000 - tn: 27792.0000 - fn: 762.0000 - accuracy: 0.9713 - precision: 0.9020 - recall: 0.4913 - auc: 0.9141 - custom_f1: 0.6340 - prc: 0.7227 - val_loss: 0.1026 - val_tp: 266.0000 - val_fp: 21.0000 - val_tn: 9270.0000 - val_fn: 234.0000 - val_accuracy: 0.9740 - val_precision: 0.9268 - val_recall: 0.5320 - val_auc: 0.8971 - val_custom_f1: 0.6746 - val_prc: 0.7170\n",
      "Epoch 60/150\n",
      "29/29 [==============================] - 0s 5ms/step - loss: 0.1015 - tp: 756.0000 - fp: 89.0000 - tn: 27783.0000 - fn: 742.0000 - accuracy: 0.9717 - precision: 0.8947 - recall: 0.5047 - auc: 0.9105 - custom_f1: 0.6416 - prc: 0.7188 - val_loss: 0.1028 - val_tp: 266.0000 - val_fp: 23.0000 - val_tn: 9268.0000 - val_fn: 234.0000 - val_accuracy: 0.9738 - val_precision: 0.9204 - val_recall: 0.5320 - val_auc: 0.8976 - val_custom_f1: 0.6724 - val_prc: 0.7175\n",
      "Epoch 61/150\n",
      "29/29 [==============================] - 0s 5ms/step - loss: 0.1015 - tp: 745.0000 - fp: 81.0000 - tn: 27791.0000 - fn: 753.0000 - accuracy: 0.9716 - precision: 0.9019 - recall: 0.4973 - auc: 0.9141 - custom_f1: 0.6374 - prc: 0.7182 - val_loss: 0.1022 - val_tp: 267.0000 - val_fp: 22.0000 - val_tn: 9269.0000 - val_fn: 233.0000 - val_accuracy: 0.9740 - val_precision: 0.9239 - val_recall: 0.5340 - val_auc: 0.9020 - val_custom_f1: 0.6747 - val_prc: 0.7194\n",
      "Epoch 62/150\n",
      "29/29 [==============================] - 0s 6ms/step - loss: 0.1011 - tp: 737.0000 - fp: 70.0000 - tn: 27802.0000 - fn: 761.0000 - accuracy: 0.9717 - precision: 0.9133 - recall: 0.4920 - auc: 0.9105 - custom_f1: 0.6348 - prc: 0.7240 - val_loss: 0.1021 - val_tp: 266.0000 - val_fp: 22.0000 - val_tn: 9269.0000 - val_fn: 234.0000 - val_accuracy: 0.9739 - val_precision: 0.9236 - val_recall: 0.5320 - val_auc: 0.8954 - val_custom_f1: 0.6734 - val_prc: 0.7192\n",
      "Epoch 63/150\n",
      "29/29 [==============================] - 0s 5ms/step - loss: 0.1033 - tp: 735.0000 - fp: 93.0000 - tn: 27779.0000 - fn: 763.0000 - accuracy: 0.9709 - precision: 0.8877 - recall: 0.4907 - auc: 0.9073 - custom_f1: 0.6286 - prc: 0.7045 - val_loss: 0.1016 - val_tp: 266.0000 - val_fp: 20.0000 - val_tn: 9271.0000 - val_fn: 234.0000 - val_accuracy: 0.9741 - val_precision: 0.9301 - val_recall: 0.5320 - val_auc: 0.8942 - val_custom_f1: 0.6758 - val_prc: 0.7172\n",
      "Epoch 64/150\n",
      "29/29 [==============================] - 0s 5ms/step - loss: 0.0997 - tp: 764.0000 - fp: 65.0000 - tn: 27807.0000 - fn: 734.0000 - accuracy: 0.9728 - precision: 0.9216 - recall: 0.5100 - auc: 0.9108 - custom_f1: 0.6523 - prc: 0.7222 - val_loss: 0.1019 - val_tp: 267.0000 - val_fp: 27.0000 - val_tn: 9264.0000 - val_fn: 233.0000 - val_accuracy: 0.9734 - val_precision: 0.9082 - val_recall: 0.5340 - val_auc: 0.8953 - val_custom_f1: 0.6711 - val_prc: 0.7158\n",
      "Restoring model weights from the end of the best epoch.\n",
      "Epoch 00064: early stopping\n"
     ]
    }
   ],
   "source": [
    "weighted_model = make_model(learning_rate=0.001, n_features=train_features.shape[1])#, output_bias=initial_bias)\n",
    "weighted_model.load_weights(initial_weights)\n",
    "\n",
    "weighted_history = weighted_model.fit(\n",
    "    train_features,\n",
    "    y_train,\n",
    "    batch_size=BATCH_SIZE,\n",
    "    epochs=EPOCHS,\n",
    "    callbacks=[early_stopping],\n",
    "    validation_data=(val_features, y_val),\n",
    ")#class_weight=class_weight)"
   ]
  },
  {
   "cell_type": "code",
   "execution_count": 2496,
   "id": "10d24aaf-018c-416b-bf0c-be07523a1d95",
   "metadata": {},
   "outputs": [
    {
     "data": {
      "image/png": "[encoded data removed]",
      "text/plain": [
       "<Figure size 1440x720 with 4 Axes>"
      ]
     },
     "metadata": {
      "needs_background": "light"
     },
     "output_type": "display_data"
    }
   ],
   "source": [
    "plt.figure(figsize=(20,10))\n",
    "plot_metrics(weighted_history)"
   ]
  },
  {
   "cell_type": "code",
   "execution_count": 2501,
   "id": "4c2388e5-d847-45b4-bb6c-32a10adcbc1f",
   "metadata": {},
   "outputs": [],
   "source": [
    "train_predictions_weighted = weighted_model.predict(train_features, batch_size=BATCH_SIZE)\n",
    "val_predictions_weighted = weighted_model.predict(val_features, batch_size=BATCH_SIZE)"
   ]
  },
  {
   "cell_type": "code",
   "execution_count": 2502,
   "id": "fc4b72a6-c243-446d-a75c-a7af0c9353be",
   "metadata": {},
   "outputs": [],
   "source": [
    "preds = np.where(val_predictions_weighted>=0.5, 1, 0)"
   ]
  },
  {
   "cell_type": "code",
   "execution_count": 2503,
   "id": "7b7d88ba-80fb-482f-820a-996fa614a7ea",
   "metadata": {},
   "outputs": [
    {
     "data": {
      "text/plain": [
       "0.6802547770700637"
      ]
     },
     "execution_count": 2503,
     "metadata": {},
     "output_type": "execute_result"
    }
   ],
   "source": [
    "f1_score(y_val, preds)"
   ]
  },
  {
   "cell_type": "code",
   "execution_count": 2504,
   "id": "fdac32f8-7f18-464a-8120-1bde0ab301df",
   "metadata": {},
   "outputs": [],
   "source": [
    "# Make predictions for test data\n",
    "preds = weighted_model.predict(test_features, batch_size=BATCH_SIZE)\n",
    "preds = np.where(preds>=0.5, 1, 0).flatten()\n",
    "res = pd.concat([test_ids, pd.Series(preds, name='buy')], axis=1)\n",
    "res.to_csv('submit-ann.csv', index=False)"
   ]
  },
  {
   "cell_type": "code",
   "execution_count": null,
   "id": "d669f838-35ea-4043-807d-f776e6d241ef",
   "metadata": {},
   "outputs": [],
   "source": []
  },
  {
   "cell_type": "code",
   "execution_count": null,
   "id": "cdee1352-0bb7-472f-befa-6a440659539c",
   "metadata": {},
   "outputs": [],
   "source": []
  },
  {
   "cell_type": "code",
   "execution_count": null,
   "id": "7df6be33-f235-45e2-9149-b72ae493bc91",
   "metadata": {},
   "outputs": [],
   "source": []
  }
 ],
 "metadata": {
  "kernelspec": {
   "display_name": "Python 3 (ipykernel)",
   "language": "python",
   "name": "python3"
  },
  "language_info": {
   "codemirror_mode": {
    "name": "ipython",
    "version": 3
   },
   "file_extension": ".py",
   "mimetype": "text/x-python",
   "name": "python",
   "nbconvert_exporter": "python",
   "pygments_lexer": "ipython3",
   "version": "3.9.4"
  }
 },
 "nbformat": 4,
 "nbformat_minor": 5
}
